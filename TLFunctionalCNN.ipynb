{
  "nbformat": 4,
  "nbformat_minor": 0,
  "metadata": {
    "colab": {
      "name": "TLFunctionalCNN.ipynb",
      "version": "0.3.2",
      "provenance": [],
      "collapsed_sections": []
    },
    "kernelspec": {
      "name": "python3",
      "display_name": "Python 3"
    },
    "accelerator": "GPU"
  },
  "cells": [
    {
      "cell_type": "code",
      "metadata": {
        "id": "FPCqqP1lrFk7",
        "colab_type": "code",
        "colab": {}
      },
      "source": [
        "import numpy as np\n",
        "import keras\n",
        "from keras.datasets import mnist\n",
        "import matplotlib.pyplot as plt"
      ],
      "execution_count": 0,
      "outputs": []
    },
    {
      "cell_type": "code",
      "metadata": {
        "id": "zqcRw4JTrP6V",
        "colab_type": "code",
        "outputId": "3187f348-8e46-4d15-be3f-ccab6895d517",
        "colab": {
          "base_uri": "https://localhost:8080/",
          "height": 303
        }
      },
      "source": [
        "(x_train, y_train), (x_test, y_test) = mnist.load_data() \n",
        "\n",
        "# print(x_train.shape)\n",
        "# print(len(x_train))\n",
        "# print(x_train.shape)\n",
        "# print(x_test.shape)\n",
        "# print(len(x_test.shape))\n",
        "image_size = 28\n",
        "\n",
        "\n",
        "plt.imshow(x_train[1])\n",
        "\n",
        "x_train = np.reshape(x_train, [-1, image_size, image_size, 1])#changing to (n, 28,28,1)\n",
        "x_test = np.reshape(x_test, [-1, image_size, image_size, 1])\n",
        "\n",
        "x_train = x_train.astype('float32') / 255\n",
        "x_test = x_test.astype('float32') / 255\n",
        "\n",
        "print((x_train.shape))\n",
        "\n",
        "# print(np.unique(y_train))\n",
        "# print(np.unique(y_test))#to print no. of classes\n",
        "\n",
        "print(y_train)\n",
        "\n",
        "from keras.utils import np_utils #onehotencoder\n",
        "\n",
        "y_train = np_utils.to_categorical(y_train).astype('int32')#same functionality as onehotencoder\n",
        "y_test = np_utils.to_categorical(y_test)\n",
        "\n",
        "# for layer in model.layers:\n",
        "#   print(layer.get_config(), layer.get_weights()) # to freeze the layer weight "
      ],
      "execution_count": 0,
      "outputs": [
        {
          "output_type": "stream",
          "text": [
            "(60000, 28, 28, 1)\n",
            "[5 0 4 ... 5 6 8]\n"
          ],
          "name": "stdout"
        },
        {
          "output_type": "display_data",
          "data": {
            "image/png": "[encoded data removed]",
            "text/plain": [
              "<Figure size 432x288 with 1 Axes>"
            ]
          },
          "metadata": {
            "tags": []
          }
        }
      ]
    },
    {
      "cell_type": "code",
      "metadata": {
        "id": "LRPY36XnrXRE",
        "colab_type": "code",
        "outputId": "4fa2db05-d546-4659-d481-c6ea87d1d527",
        "colab": {
          "base_uri": "https://localhost:8080/",
          "height": 408
        }
      },
      "source": [
        "from keras.models import Model\n",
        "from keras.layers import Conv2D, MaxPooling2D, Flatten, Dense, Input\n",
        "#functional keras model\n",
        "\n",
        "inputLr = Input(shape = (28,28,1))\n",
        "\n",
        "X1 = Conv2D(64,(3,3), activation = \"relu\")(inputLr)\n",
        "X1 = MaxPooling2D(pool_size = (2,2))(X1)\n",
        "\n",
        "X2 = Conv2D(32,(3,3), activation = \"relu\")(X1)\n",
        "X2 = MaxPooling2D(pool_size = (2,2))(X2)\n",
        "X2 = Flatten()(X2)\n",
        "\n",
        "X3 = Dense(128, activation  = \"relu\")(X2)\n",
        "OutLr = Dense(10, activation  = \"softmax\")(X3) \n",
        "\n",
        "model = Model(inputs = inputLr, outputs = OutLr)\n",
        "\n",
        "model.summary()\n",
        "\n"
      ],
      "execution_count": 0,
      "outputs": [
        {
          "output_type": "stream",
          "text": [
            "_________________________________________________________________\n",
            "Layer (type)                 Output Shape              Param #   \n",
            "=================================================================\n",
            "input_5 (InputLayer)         (None, 28, 28, 1)         0         \n",
            "_________________________________________________________________\n",
            "conv2d_9 (Conv2D)            (None, 26, 26, 64)        640       \n",
            "_________________________________________________________________\n",
            "max_pooling2d_9 (MaxPooling2 (None, 13, 13, 64)        0         \n",
            "_________________________________________________________________\n",
            "conv2d_10 (Conv2D)           (None, 11, 11, 32)        18464     \n",
            "_________________________________________________________________\n",
            "max_pooling2d_10 (MaxPooling (None, 5, 5, 32)          0         \n",
            "_________________________________________________________________\n",
            "flatten_5 (Flatten)          (None, 800)               0         \n",
            "_________________________________________________________________\n",
            "dense_21 (Dense)             (None, 128)               102528    \n",
            "_________________________________________________________________\n",
            "dense_22 (Dense)             (None, 10)                1290      \n",
            "=================================================================\n",
            "Total params: 122,922\n",
            "Trainable params: 122,922\n",
            "Non-trainable params: 0\n",
            "_________________________________________________________________\n"
          ],
          "name": "stdout"
        }
      ]
    },
    {
      "cell_type": "code",
      "metadata": {
        "id": "2uUp2-XerZS4",
        "colab_type": "code",
        "outputId": "39491f74-11b1-40bd-8730-429cac36dd91",
        "colab": {
          "base_uri": "https://localhost:8080/",
          "height": 391
        }
      },
      "source": [
        "model.compile(optimizer = \"adam\", loss =\"categorical_crossentropy\", metrics = [\"accuracy\"])\n",
        "model.fit(x_train, y_train, epochs = 10,validation_data=(x_test, y_test), batch_size = 256)"
      ],
      "execution_count": 0,
      "outputs": [
        {
          "output_type": "stream",
          "text": [
            "Train on 60000 samples, validate on 10000 samples\n",
            "Epoch 1/10\n",
            "60000/60000 [==============================] - 3s 53us/step - loss: 0.3100 - acc: 0.9123 - val_loss: 0.0847 - val_acc: 0.9745\n",
            "Epoch 2/10\n",
            "60000/60000 [==============================] - 2s 38us/step - loss: 0.0754 - acc: 0.9764 - val_loss: 0.0567 - val_acc: 0.9806\n",
            "Epoch 3/10\n",
            "60000/60000 [==============================] - 2s 38us/step - loss: 0.0535 - acc: 0.9829 - val_loss: 0.0443 - val_acc: 0.9848\n",
            "Epoch 4/10\n",
            "60000/60000 [==============================] - 2s 38us/step - loss: 0.0414 - acc: 0.9873 - val_loss: 0.0364 - val_acc: 0.9878\n",
            "Epoch 5/10\n",
            "60000/60000 [==============================] - 2s 38us/step - loss: 0.0328 - acc: 0.9898 - val_loss: 0.0367 - val_acc: 0.9867\n",
            "Epoch 6/10\n",
            "60000/60000 [==============================] - 2s 38us/step - loss: 0.0290 - acc: 0.9912 - val_loss: 0.0326 - val_acc: 0.9888\n",
            "Epoch 7/10\n",
            "60000/60000 [==============================] - 2s 37us/step - loss: 0.0243 - acc: 0.9924 - val_loss: 0.0318 - val_acc: 0.9897\n",
            "Epoch 8/10\n",
            "60000/60000 [==============================] - 2s 37us/step - loss: 0.0204 - acc: 0.9933 - val_loss: 0.0308 - val_acc: 0.9902\n",
            "Epoch 9/10\n",
            "60000/60000 [==============================] - 2s 37us/step - loss: 0.0171 - acc: 0.9946 - val_loss: 0.0337 - val_acc: 0.9886\n",
            "Epoch 10/10\n",
            "60000/60000 [==============================] - 2s 37us/step - loss: 0.0159 - acc: 0.9951 - val_loss: 0.0357 - val_acc: 0.9889\n"
          ],
          "name": "stdout"
        },
        {
          "output_type": "execute_result",
          "data": {
            "text/plain": [
              "<keras.callbacks.History at 0x7f3a3ffb9cf8>"
            ]
          },
          "metadata": {
            "tags": []
          },
          "execution_count": 105
        }
      ]
    },
    {
      "cell_type": "code",
      "metadata": {
        "id": "nJH93AXB6rkQ",
        "colab_type": "code",
        "colab": {}
      },
      "source": [
        "\n",
        "# y =  model.predict(x_test[0].reshape([1,28,28,1])) \n",
        "# d = x_test[0].reshape(28,28)\n",
        "# plt.figure(figsize = (5,5))\n",
        "# plt.imshow(d)\n",
        "# print(y)"
      ],
      "execution_count": 0,
      "outputs": []
    },
    {
      "cell_type": "code",
      "metadata": {
        "id": "BYzPfTf4SVFF",
        "colab_type": "code",
        "outputId": "3c6ae6c7-05d6-453e-edc7-3af5b973b28e",
        "colab": {
          "base_uri": "https://localhost:8080/",
          "height": 34
        }
      },
      "source": [
        "from google.colab import drive\n",
        "drive.mount('/content/drive')"
      ],
      "execution_count": 0,
      "outputs": [
        {
          "output_type": "stream",
          "text": [
            "Drive already mounted at /content/drive; to attempt to forcibly remount, call drive.mount(\"/content/drive\", force_remount=True).\n"
          ],
          "name": "stdout"
        }
      ]
    },
    {
      "cell_type": "code",
      "metadata": {
        "id": "qxQMLA7qSW1R",
        "colab_type": "code",
        "colab": {}
      },
      "source": [
        "from keras.preprocessing import image\n",
        "train_path = '/content/drive/My Drive/faces94/TLDB/TLDB/Priyesh/Train/'\n",
        "test_path = '/content/drive/My Drive/faces94/TLDB/TLDB/Priyesh/Test/'"
      ],
      "execution_count": 0,
      "outputs": []
    },
    {
      "cell_type": "code",
      "metadata": {
        "id": "cm3JAcOXC7w0",
        "colab_type": "code",
        "colab": {}
      },
      "source": [
        "from PIL import Image, ImageFilter\n",
        "from matplotlib import pyplot as plt\n",
        "\n",
        "\n",
        "def imageprepare(argv):\n",
        "    \"\"\"\n",
        "    This function returns the pixel values.\n",
        "    The imput is a png file location.\n",
        "    \"\"\"\n",
        "    im = Image.open(argv).convert('L')\n",
        "    width = float(im.size[0])\n",
        "    height = float(im.size[1])\n",
        "    newImage = Image.new('L', (28, 28), (255))  # creates white canvas of 28x28 pixels\n",
        "\n",
        "    if width > height:  # check which dimension is bigger\n",
        "        # Width is bigger. Width becomes 20 pixels.\n",
        "        nheight = int(round((20.0 / width * height), 0))  # resize height according to ratio width\n",
        "        if (nheight == 0):  # rare case but minimum is 1 pixel\n",
        "            nheight = 1\n",
        "            # resize and sharpen\n",
        "        img = im.resize((20, nheight), Image.ANTIALIAS).filter(ImageFilter.SHARPEN)\n",
        "        wtop = int(round(((28 - nheight) / 2), 0))  # calculate horizontal position\n",
        "        newImage.paste(img, (4, wtop))  # paste resized image on white canvas\n",
        "    else:\n",
        "        # Height is bigger. Heigth becomes 20 pixels.\n",
        "        nwidth = int(round((20.0 / height * width), 0))  # resize width according to ratio height\n",
        "        if (nwidth == 0):  # rare case but minimum is 1 pixel\n",
        "            nwidth = 1\n",
        "            # resize and sharpen\n",
        "        img = im.resize((nwidth, 20), Image.ANTIALIAS).filter(ImageFilter.SHARPEN)\n",
        "        wleft = int(round(((28 - nwidth) / 2), 0))  # caculate vertical pozition\n",
        "        newImage.paste(img, (wleft, 4))  # paste resized image on white canvas\n",
        "\n",
        "    # newImage.save(\"sample.png\n",
        "\n",
        "    tv = list(newImage.getdata())  # get pixel values\n",
        "\n",
        "    # normalize pixels to 0 and 1. 0 is pure white, 1 is pure black.\n",
        "    tva = [(255 - x) * 1.0 / 255.0 for x in tv]\n",
        "    #print(tva)\n",
        "    return tva\n",
        "\n",
        "\n",
        "result=[]\n",
        "import numpy as np\n",
        "import glob\n",
        "files=(glob.glob(train_path+\"/*.png\")) #to list names of all the files inside given folder; i.e. relative path\n",
        "n=len(files);\n",
        "    \n",
        "for indx in range(n):\n",
        "        x=[imageprepare(files[indx])]#file path here\n",
        "        newArr=[[0 for d in range(28)] for y in range(28)]\n",
        "        k = 0\n",
        "        for i in range(28):\n",
        "            for j in range(28):\n",
        "                newArr[i][j]=x[0][k]\n",
        "                k=k+1\n",
        "        result.append(newArr)\n",
        "x_npa=np.asarray(result) # converting to NP ARRAY of size (n,28,28)\n",
        "#     return x_npa\n",
        "    \n",
        "\n"
      ],
      "execution_count": 0,
      "outputs": []
    },
    {
      "cell_type": "code",
      "metadata": {
        "id": "PZG7D_riGvOp",
        "colab_type": "code",
        "outputId": "c5e9ce35-0959-47a6-bcd4-b015901136b9",
        "colab": {
          "base_uri": "https://localhost:8080/",
          "height": 590
        }
      },
      "source": [
        "print(x_npa.shape)\n",
        "plt.figure(figsize = (10, 10))\n",
        "\n",
        "for i in range(20):\n",
        "  plt.subplot(4,5,i+1)\n",
        "  plt.imshow(x_npa[i])"
      ],
      "execution_count": 0,
      "outputs": [
        {
          "output_type": "stream",
          "text": [
            "(20, 28, 28)\n"
          ],
          "name": "stdout"
        },
        {
          "output_type": "display_data",
          "data": {
            "image/png": "[encoded data removed]",
            "text/plain": [
              "<Figure size 720x720 with 20 Axes>"
            ]
          },
          "metadata": {
            "tags": []
          }
        }
      ]
    },
    {
      "cell_type": "code",
      "metadata": {
        "id": "6N2B5wXJMHZ3",
        "colab_type": "code",
        "outputId": "20850645-f55e-44ae-a4b8-98eb7f55fff4",
        "colab": {
          "base_uri": "https://localhost:8080/",
          "height": 34
        }
      },
      "source": [
        "x_train_new = x_npa#our dataset\n",
        "y_train_new = np.array([5,9,0,8,3,6,8,2,2,3,4,4,5,0,6,9,7,1,7,1])\n",
        "y_train_new_for_svm=y_train_new\n",
        "x_train_new = x_train_new.reshape([-1,28,28,1])\n",
        "# model.predict(x_train_new)\n",
        "\n",
        "model1 = Model(inputs = model.input, outputs = model.layers[5].output) #taking only convnet features by excluding two dense layers\n",
        "x_train_features=model1.predict(x_train_new)\n",
        "#model1.summary()\n",
        "print(x_train_features.shape)\n",
        "\n"
      ],
      "execution_count": 0,
      "outputs": [
        {
          "output_type": "stream",
          "text": [
            "(20, 800)\n"
          ],
          "name": "stdout"
        }
      ]
    },
    {
      "cell_type": "code",
      "metadata": {
        "id": "7royrzuzOm7I",
        "colab_type": "code",
        "colab": {}
      },
      "source": [
        "y_train_new = np_utils.to_categorical(y_train_new).astype('int32')#same functionality as onehotencoder\n"
      ],
      "execution_count": 0,
      "outputs": []
    },
    {
      "cell_type": "code",
      "metadata": {
        "id": "hOkpM9J0RiEY",
        "colab_type": "code",
        "outputId": "00b41c5a-fbb7-4242-a839-1c1654d2c9ec",
        "colab": {
          "base_uri": "https://localhost:8080/",
          "height": 54
        }
      },
      "source": [
        "#for our understanding we are sending our dataset as a test dataset to find how accurate my model is.\n",
        "# y1 = x_train_new[0].reshape(-1,28,28,1)\n",
        "y = model.predict(x_train_new)\n",
        "result1 = []\n",
        "\n",
        "for i in range(20):\n",
        "  result1.append(np.where(y[i] == np.amax(y[i])))\n",
        "    \n",
        "    \n",
        "print(result1)"
      ],
      "execution_count": 0,
      "outputs": [
        {
          "output_type": "stream",
          "text": [
            "[(array([9]),), (array([9]),), (array([0]),), (array([9]),), (array([3]),), (array([6]),), (array([9]),), (array([2]),), (array([2]),), (array([3]),), (array([8]),), (array([4]),), (array([9]),), (array([9]),), (array([6]),), (array([9]),), (array([3]),), (array([4]),), (array([7]),), (array([1]),)]\n"
          ],
          "name": "stdout"
        }
      ]
    },
    {
      "cell_type": "code",
      "metadata": {
        "id": "xONXyp2Ffk1H",
        "colab_type": "code",
        "outputId": "f9d042f3-1dae-4b58-c82c-9006ed126bb3",
        "colab": {
          "base_uri": "https://localhost:8080/",
          "height": 204
        }
      },
      "source": [
        "from keras.models import Sequential\n",
        "\n",
        "\n",
        "newmodel = Sequential()\n",
        "newmodel.add(Dense(units = 128,input_shape = (800,),activation = \"relu\"))\n",
        "newmodel.add(Dense(units = 10, activation = \"softmax\"))\n",
        "newmodel.summary()\n",
        "\n"
      ],
      "execution_count": 0,
      "outputs": [
        {
          "output_type": "stream",
          "text": [
            "_________________________________________________________________\n",
            "Layer (type)                 Output Shape              Param #   \n",
            "=================================================================\n",
            "dense_23 (Dense)             (None, 128)               102528    \n",
            "_________________________________________________________________\n",
            "dense_24 (Dense)             (None, 10)                1290      \n",
            "=================================================================\n",
            "Total params: 103,818\n",
            "Trainable params: 103,818\n",
            "Non-trainable params: 0\n",
            "_________________________________________________________________\n"
          ],
          "name": "stdout"
        }
      ]
    },
    {
      "cell_type": "code",
      "metadata": {
        "id": "lRj_PuNwom9L",
        "colab_type": "code",
        "colab": {}
      },
      "source": [
        "result=[]\n",
        "import numpy as np\n",
        "import glob\n",
        "files=(glob.glob(test_path+\"/*.png\")) #to list names of all the files inside given folder; i.e. relative path\n",
        "n=len(files);\n",
        "    \n",
        "for indx in range(n):\n",
        "        x=[imageprepare(files[indx])]#file path here\n",
        "        newArr=[[0 for d in range(28)] for y in range(28)]\n",
        "        k = 0\n",
        "        for i in range(28):\n",
        "            for j in range(28):\n",
        "                newArr[i][j]=x[0][k]\n",
        "                k=k+1\n",
        "        result.append(newArr)\n",
        "x_npa1=np.asarray(result) # converting to NP ARRAY of size (n,28,28)\n"
      ],
      "execution_count": 0,
      "outputs": []
    },
    {
      "cell_type": "code",
      "metadata": {
        "id": "V2vA72Too2G9",
        "colab_type": "code",
        "outputId": "55ac4c68-e3ac-4be1-fbad-062d1c918811",
        "colab": {
          "base_uri": "https://localhost:8080/",
          "height": 68
        }
      },
      "source": [
        "print(x_npa1.shape)\n",
        "# plt.figure(figsize = (10, 10))\n",
        "# for i in range(20):\n",
        "#   plt.subplot(4,5,i+1)\n",
        "#   plt.imshow(x_npa1[i])\n",
        "             \n",
        "x_test_new = x_npa1\n",
        "x_test_new = x_test_new.reshape([-1,28,28,1])\n",
        "\n",
        "y_test_new = np.array([9,2,2,8,3,5,0,8,1,7,3,7,4,5,0,6,6,1,9,4])\n",
        "y_test_new_for_svm=y_test_new\n",
        "print(y_test_new)\n",
        "\n",
        "x_test_features =model1.predict(x_test_new)\n",
        "y_test_new = np_utils.to_categorical(y_test_new).astype('int32')\n",
        "\n",
        "print(x_train_features.shape)"
      ],
      "execution_count": 0,
      "outputs": [
        {
          "output_type": "stream",
          "text": [
            "(20, 28, 28)\n",
            "[9 2 2 8 3 5 0 8 1 7 3 7 4 5 0 6 6 1 9 4]\n",
            "(20, 800)\n"
          ],
          "name": "stdout"
        }
      ]
    },
    {
      "cell_type": "code",
      "metadata": {
        "id": "EU85a5IynvM8",
        "colab_type": "code",
        "outputId": "bb875622-393a-43b8-e46e-2f6f1e51ea97",
        "colab": {
          "base_uri": "https://localhost:8080/",
          "height": 731
        }
      },
      "source": [
        "newmodel.compile(optimizer = \"adam\", loss = \"categorical_crossentropy\", metrics = ['accuracy'])\n",
        "newmodel.fit(x_train_features,\n",
        "                y_train_new,\n",
        "             epochs=20,\n",
        "                validation_data=(x_test_features, y_test_new),\n",
        "                batch_size=5\n",
        "            )"
      ],
      "execution_count": 0,
      "outputs": [
        {
          "output_type": "stream",
          "text": [
            "Train on 20 samples, validate on 20 samples\n",
            "Epoch 1/20\n",
            "20/20 [==============================] - 1s 46ms/step - loss: 2.7007 - acc: 0.1000 - val_loss: 2.1396 - val_acc: 0.3000\n",
            "Epoch 2/20\n",
            "20/20 [==============================] - 0s 1ms/step - loss: 1.5811 - acc: 0.6000 - val_loss: 1.8911 - val_acc: 0.3500\n",
            "Epoch 3/20\n",
            "20/20 [==============================] - 0s 1ms/step - loss: 0.9299 - acc: 0.9500 - val_loss: 1.6735 - val_acc: 0.6500\n",
            "Epoch 4/20\n",
            "20/20 [==============================] - 0s 1ms/step - loss: 0.5439 - acc: 1.0000 - val_loss: 1.4909 - val_acc: 0.6000\n",
            "Epoch 5/20\n",
            "20/20 [==============================] - 0s 1ms/step - loss: 0.3061 - acc: 1.0000 - val_loss: 1.4153 - val_acc: 0.5500\n",
            "Epoch 6/20\n",
            "20/20 [==============================] - 0s 1ms/step - loss: 0.1751 - acc: 1.0000 - val_loss: 1.3529 - val_acc: 0.6000\n",
            "Epoch 7/20\n",
            "20/20 [==============================] - 0s 997us/step - loss: 0.1032 - acc: 1.0000 - val_loss: 1.2982 - val_acc: 0.6500\n",
            "Epoch 8/20\n",
            "20/20 [==============================] - 0s 1ms/step - loss: 0.0672 - acc: 1.0000 - val_loss: 1.2590 - val_acc: 0.6000\n",
            "Epoch 9/20\n",
            "20/20 [==============================] - 0s 1ms/step - loss: 0.0462 - acc: 1.0000 - val_loss: 1.2326 - val_acc: 0.6000\n",
            "Epoch 10/20\n",
            "20/20 [==============================] - 0s 1ms/step - loss: 0.0343 - acc: 1.0000 - val_loss: 1.2150 - val_acc: 0.6500\n",
            "Epoch 11/20\n",
            "20/20 [==============================] - 0s 1ms/step - loss: 0.0269 - acc: 1.0000 - val_loss: 1.1960 - val_acc: 0.7000\n",
            "Epoch 12/20\n",
            "20/20 [==============================] - 0s 1ms/step - loss: 0.0218 - acc: 1.0000 - val_loss: 1.1858 - val_acc: 0.7000\n",
            "Epoch 13/20\n",
            "20/20 [==============================] - 0s 1ms/step - loss: 0.0185 - acc: 1.0000 - val_loss: 1.1789 - val_acc: 0.7000\n",
            "Epoch 14/20\n",
            "20/20 [==============================] - 0s 1ms/step - loss: 0.0161 - acc: 1.0000 - val_loss: 1.1695 - val_acc: 0.7000\n",
            "Epoch 15/20\n",
            "20/20 [==============================] - 0s 1ms/step - loss: 0.0144 - acc: 1.0000 - val_loss: 1.1642 - val_acc: 0.7000\n",
            "Epoch 16/20\n",
            "20/20 [==============================] - 0s 1ms/step - loss: 0.0130 - acc: 1.0000 - val_loss: 1.1612 - val_acc: 0.7000\n",
            "Epoch 17/20\n",
            "20/20 [==============================] - 0s 1ms/step - loss: 0.0119 - acc: 1.0000 - val_loss: 1.1587 - val_acc: 0.7000\n",
            "Epoch 18/20\n",
            "20/20 [==============================] - 0s 1ms/step - loss: 0.0110 - acc: 1.0000 - val_loss: 1.1594 - val_acc: 0.7000\n",
            "Epoch 19/20\n",
            "20/20 [==============================] - 0s 946us/step - loss: 0.0102 - acc: 1.0000 - val_loss: 1.1582 - val_acc: 0.7000\n",
            "Epoch 20/20\n",
            "20/20 [==============================] - 0s 1ms/step - loss: 0.0095 - acc: 1.0000 - val_loss: 1.1578 - val_acc: 0.7000\n"
          ],
          "name": "stdout"
        },
        {
          "output_type": "execute_result",
          "data": {
            "text/plain": [
              "<keras.callbacks.History at 0x7f3a41135320>"
            ]
          },
          "metadata": {
            "tags": []
          },
          "execution_count": 117
        }
      ]
    },
    {
      "cell_type": "code",
      "metadata": {
        "id": "xVoj9RpYnlPM",
        "colab_type": "code",
        "outputId": "45d8d9b5-a3dc-4f8a-f29e-d1ff54c819ae",
        "colab": {
          "base_uri": "https://localhost:8080/",
          "height": 54
        }
      },
      "source": [
        "y1 = newmodel.predict(x_test_features)\n",
        "result1 = []\n",
        "\n",
        "for i in range(20):\n",
        "  result1.append(np.where(y1[i] == np.amax(y1[i])))\n",
        "    \n",
        "    \n",
        "print(result1)"
      ],
      "execution_count": 0,
      "outputs": [
        {
          "output_type": "stream",
          "text": [
            "[(array([0]),), (array([2]),), (array([2]),), (array([0]),), (array([3]),), (array([1]),), (array([8]),), (array([8]),), (array([1]),), (array([4]),), (array([3]),), (array([7]),), (array([4]),), (array([5]),), (array([0]),), (array([6]),), (array([6]),), (array([9]),), (array([9]),), (array([4]),)]\n"
          ],
          "name": "stdout"
        }
      ]
    },
    {
      "cell_type": "code",
      "metadata": {
        "id": "yLwpcZuT9Ei-",
        "colab_type": "code",
        "outputId": "39a9a1a9-670d-43b7-f0bd-a80d33f1ecb5",
        "colab": {
          "base_uri": "https://localhost:8080/",
          "height": 156
        }
      },
      "source": [
        "#pretrained_model= convnet , and new_model=svm\n",
        "from sklearn.svm import SVC\n",
        "classifier = SVC(kernel = 'rbf', random_state = 0)\n",
        "print(x_train_features.shape)\n",
        "\n",
        "classifier.fit(x_train_features, y_train_new_for_svm)"
      ],
      "execution_count": 0,
      "outputs": [
        {
          "output_type": "stream",
          "text": [
            "(20, 800)\n"
          ],
          "name": "stdout"
        },
        {
          "output_type": "stream",
          "text": [
            "/usr/local/lib/python3.6/dist-packages/sklearn/svm/base.py:193: FutureWarning: The default value of gamma will change from 'auto' to 'scale' in version 0.22 to account better for unscaled features. Set gamma explicitly to 'auto' or 'scale' to avoid this warning.\n",
            "  \"avoid this warning.\", FutureWarning)\n"
          ],
          "name": "stderr"
        },
        {
          "output_type": "execute_result",
          "data": {
            "text/plain": [
              "SVC(C=1.0, cache_size=200, class_weight=None, coef0=0.0,\n",
              "    decision_function_shape='ovr', degree=3, gamma='auto_deprecated',\n",
              "    kernel='rbf', max_iter=-1, probability=False, random_state=0,\n",
              "    shrinking=True, tol=0.001, verbose=False)"
            ]
          },
          "metadata": {
            "tags": []
          },
          "execution_count": 126
        }
      ]
    },
    {
      "cell_type": "code",
      "metadata": {
        "id": "DnhOhcUGJ5z0",
        "colab_type": "code",
        "colab": {}
      },
      "source": [
        "y_pred_by_svm=classifier.predict(x_test_features)\n",
        "from sklearn.metrics import confusion_matrix\n",
        "cn=confusion_matrix(y_test_new_for_svm,y_pred_by_svm)"
      ],
      "execution_count": 0,
      "outputs": []
    },
    {
      "cell_type": "code",
      "metadata": {
        "id": "hFTLYLNLJyK2",
        "colab_type": "code",
        "outputId": "bd455b83-8643-4b24-8f0c-147f360cc93d",
        "colab": {
          "base_uri": "https://localhost:8080/",
          "height": 187
        }
      },
      "source": [
        "print(cn)"
      ],
      "execution_count": 0,
      "outputs": [
        {
          "output_type": "stream",
          "text": [
            "[[0 0 0 0 0 0 1 0 1 0]\n",
            " [0 1 0 0 1 0 0 0 0 0]\n",
            " [0 0 2 0 0 0 0 0 0 0]\n",
            " [0 0 0 2 0 0 0 0 0 0]\n",
            " [0 0 0 0 2 0 0 0 0 0]\n",
            " [0 1 0 0 0 1 0 0 0 0]\n",
            " [0 0 0 0 0 0 2 0 0 0]\n",
            " [0 0 0 0 0 0 0 2 0 0]\n",
            " [0 0 0 0 0 0 0 0 1 1]\n",
            " [0 1 0 0 0 0 0 0 1 0]]\n"
          ],
          "name": "stdout"
        }
      ]
    }
  ]
}