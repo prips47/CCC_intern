{
  "nbformat": 4,
  "nbformat_minor": 0,
  "metadata": {
    "colab": {
      "name": "TLFunctionalCNN10.ipynb",
      "version": "0.3.2",
      "provenance": [],
      "collapsed_sections": []
    },
    "kernelspec": {
      "name": "python3",
      "display_name": "Python 3"
    },
    "accelerator": "GPU"
  },
  "cells": [
    {
      "cell_type": "code",
      "metadata": {
        "id": "FPCqqP1lrFk7",
        "colab_type": "code",
        "outputId": "6f3c0208-bb88-4c6e-92ef-6558d9e48f74",
        "colab": {
          "base_uri": "https://localhost:8080/",
          "height": 34
        }
      },
      "source": [
        "import numpy as np\n",
        "import keras\n",
        "from keras.datasets import mnist\n",
        "import matplotlib.pyplot as plt"
      ],
      "execution_count": 1,
      "outputs": [
        {
          "output_type": "stream",
          "text": [
            "Using TensorFlow backend.\n"
          ],
          "name": "stderr"
        }
      ]
    },
    {
      "cell_type": "code",
      "metadata": {
        "id": "zqcRw4JTrP6V",
        "colab_type": "code",
        "outputId": "ee1f5542-1abd-49f5-c9a5-f1ef4d5e6d50",
        "colab": {
          "base_uri": "https://localhost:8080/",
          "height": 303
        }
      },
      "source": [
        "#Dataset preperation for basic mnist network\n",
        "\n",
        "(x_train_mnist, y_train_mnist), (x_test_mnist, y_test_mnist) = mnist.load_data() \n",
        "\n",
        "# print(x_train.shape)\n",
        "# print(len(x_train))\n",
        "# print(x_train.shape)\n",
        "# print(x_test.shape)\n",
        "# print(len(x_test.shape))\n",
        "image_size = 28\n",
        "\n",
        "\n",
        "plt.imshow(x_train_mnist[1])\n",
        "\n",
        "x_train_mnist = np.reshape(x_train_mnist, [-1, image_size, image_size, 1])#changing to (n, 28,28,1)\n",
        "x_test_mnist = np.reshape(x_test_mnist, [-1, image_size, image_size, 1])\n",
        "\n",
        "x_train_mnist = x_train_mnist.astype('float32') / 255\n",
        "x_test_mnist = x_test_mnist.astype('float32') / 255\n",
        "\n",
        "print((x_train_mnist.shape))\n",
        "\n",
        "# print(np.unique(y_train))\n",
        "# print(np.unique(y_test))#to print no. of classes\n",
        "\n",
        "print(y_train_mnist)\n",
        "\n",
        "from keras.utils import np_utils #onehotencoder\n",
        "\n",
        "y_train_mnist = np_utils.to_categorical(y_train_mnist).astype('int32')#same functionality as onehotencoder\n",
        "y_test_mnist = np_utils.to_categorical(y_test_mnist)\n",
        "\n",
        "# for layer in model.layers:\n",
        "#   print(layer.get_config(), layer.get_weights()) # to freeze the layer weight "
      ],
      "execution_count": 2,
      "outputs": [
        {
          "output_type": "stream",
          "text": [
            "(60000, 28, 28, 1)\n",
            "[5 0 4 ... 5 6 8]\n"
          ],
          "name": "stdout"
        },
        {
          "output_type": "display_data",
          "data": {
            "image/png": "[encoded data removed]",
            "text/plain": [
              "<Figure size 432x288 with 1 Axes>"
            ]
          },
          "metadata": {
            "tags": []
          }
        }
      ]
    },
    {
      "cell_type": "code",
      "metadata": {
        "id": "LRPY36XnrXRE",
        "colab_type": "code",
        "outputId": "40082ae4-38c5-4cc5-e3db-1680f3ae0512",
        "colab": {
          "base_uri": "https://localhost:8080/",
          "height": 615
        }
      },
      "source": [
        "from keras.models import Model\n",
        "from keras.layers import Conv2D, MaxPooling2D, Flatten, Dense, Input\n",
        "#functional keras model\n",
        "\n",
        "inputLr = Input(shape = (28,28,1))\n",
        "\n",
        "X1 = Conv2D(64,(3,3), activation = \"relu\")(inputLr)\n",
        "X1 = MaxPooling2D(pool_size = (2,2))(X1)\n",
        "\n",
        "X2 = Conv2D(32,(3,3), activation = \"relu\")(X1)\n",
        "X2 = MaxPooling2D(pool_size = (2,2))(X2)\n",
        "\n",
        "X3 = Conv2D(16,(3,3), activation = \"relu\")(X2)\n",
        "X3 = Flatten()(X3)\n",
        "\n",
        "\n",
        "X4 = Dense(128, activation  = \"relu\")(X3)\n",
        "OutLr = Dense(10, activation  = \"softmax\")(X4) \n",
        "\n",
        "pretrained_model = Model(inputs = inputLr, outputs = OutLr)\n",
        "\n",
        "pretrained_model.summary()"
      ],
      "execution_count": 3,
      "outputs": [
        {
          "output_type": "stream",
          "text": [
            "WARNING: Logging before flag parsing goes to stderr.\n",
            "W0626 09:45:58.783288 140366742640512 deprecation_wrapper.py:119] From /usr/local/lib/python3.6/dist-packages/keras/backend/tensorflow_backend.py:74: The name tf.get_default_graph is deprecated. Please use tf.compat.v1.get_default_graph instead.\n",
            "\n",
            "W0626 09:45:58.808300 140366742640512 deprecation_wrapper.py:119] From /usr/local/lib/python3.6/dist-packages/keras/backend/tensorflow_backend.py:517: The name tf.placeholder is deprecated. Please use tf.compat.v1.placeholder instead.\n",
            "\n",
            "W0626 09:45:58.815330 140366742640512 deprecation_wrapper.py:119] From /usr/local/lib/python3.6/dist-packages/keras/backend/tensorflow_backend.py:4138: The name tf.random_uniform is deprecated. Please use tf.random.uniform instead.\n",
            "\n",
            "W0626 09:45:58.838102 140366742640512 deprecation_wrapper.py:119] From /usr/local/lib/python3.6/dist-packages/keras/backend/tensorflow_backend.py:3976: The name tf.nn.max_pool is deprecated. Please use tf.nn.max_pool2d instead.\n",
            "\n"
          ],
          "name": "stderr"
        },
        {
          "output_type": "stream",
          "text": [
            "_________________________________________________________________\n",
            "Layer (type)                 Output Shape              Param #   \n",
            "=================================================================\n",
            "input_1 (InputLayer)         (None, 28, 28, 1)         0         \n",
            "_________________________________________________________________\n",
            "conv2d_1 (Conv2D)            (None, 26, 26, 64)        640       \n",
            "_________________________________________________________________\n",
            "max_pooling2d_1 (MaxPooling2 (None, 13, 13, 64)        0         \n",
            "_________________________________________________________________\n",
            "conv2d_2 (Conv2D)            (None, 11, 11, 32)        18464     \n",
            "_________________________________________________________________\n",
            "max_pooling2d_2 (MaxPooling2 (None, 5, 5, 32)          0         \n",
            "_________________________________________________________________\n",
            "conv2d_3 (Conv2D)            (None, 3, 3, 16)          4624      \n",
            "_________________________________________________________________\n",
            "flatten_1 (Flatten)          (None, 144)               0         \n",
            "_________________________________________________________________\n",
            "dense_1 (Dense)              (None, 128)               18560     \n",
            "_________________________________________________________________\n",
            "dense_2 (Dense)              (None, 10)                1290      \n",
            "=================================================================\n",
            "Total params: 43,578\n",
            "Trainable params: 43,578\n",
            "Non-trainable params: 0\n",
            "_________________________________________________________________\n"
          ],
          "name": "stdout"
        }
      ]
    },
    {
      "cell_type": "code",
      "metadata": {
        "id": "2uUp2-XerZS4",
        "colab_type": "code",
        "outputId": "99c5d480-7775-43ea-b792-d649f31a4cce",
        "colab": {
          "base_uri": "https://localhost:8080/",
          "height": 564
        }
      },
      "source": [
        "pretrained_model.compile(optimizer = \"adam\", loss =\"categorical_crossentropy\", metrics = [\"accuracy\"])\n",
        "pretrained_model.fit(x_train_mnist, y_train_mnist, epochs = 10,validation_data=(x_test_mnist, y_test_mnist), batch_size = 256)"
      ],
      "execution_count": 4,
      "outputs": [
        {
          "output_type": "stream",
          "text": [
            "W0626 09:45:58.933070 140366742640512 deprecation_wrapper.py:119] From /usr/local/lib/python3.6/dist-packages/keras/optimizers.py:790: The name tf.train.Optimizer is deprecated. Please use tf.compat.v1.train.Optimizer instead.\n",
            "\n",
            "W0626 09:45:58.965619 140366742640512 deprecation_wrapper.py:119] From /usr/local/lib/python3.6/dist-packages/keras/backend/tensorflow_backend.py:3295: The name tf.log is deprecated. Please use tf.math.log instead.\n",
            "\n",
            "W0626 09:45:59.081929 140366742640512 deprecation.py:323] From /usr/local/lib/python3.6/dist-packages/tensorflow/python/ops/math_grad.py:1250: add_dispatch_support.<locals>.wrapper (from tensorflow.python.ops.array_ops) is deprecated and will be removed in a future version.\n",
            "Instructions for updating:\n",
            "Use tf.where in 2.0, which has the same broadcast rule as np.where\n",
            "W0626 09:45:59.169394 140366742640512 deprecation_wrapper.py:119] From /usr/local/lib/python3.6/dist-packages/keras/backend/tensorflow_backend.py:986: The name tf.assign_add is deprecated. Please use tf.compat.v1.assign_add instead.\n",
            "\n"
          ],
          "name": "stderr"
        },
        {
          "output_type": "stream",
          "text": [
            "Train on 60000 samples, validate on 10000 samples\n",
            "Epoch 1/10\n",
            "60000/60000 [==============================] - 6s 100us/step - loss: 0.4203 - acc: 0.8784 - val_loss: 0.1203 - val_acc: 0.9626\n",
            "Epoch 2/10\n",
            "60000/60000 [==============================] - 4s 68us/step - loss: 0.0976 - acc: 0.9697 - val_loss: 0.0774 - val_acc: 0.9746\n",
            "Epoch 3/10\n",
            "60000/60000 [==============================] - 4s 67us/step - loss: 0.0675 - acc: 0.9787 - val_loss: 0.0569 - val_acc: 0.9824\n",
            "Epoch 4/10\n",
            "60000/60000 [==============================] - 4s 68us/step - loss: 0.0521 - acc: 0.9841 - val_loss: 0.0565 - val_acc: 0.9807\n",
            "Epoch 5/10\n",
            "60000/60000 [==============================] - 4s 68us/step - loss: 0.0440 - acc: 0.9862 - val_loss: 0.0449 - val_acc: 0.9854\n",
            "Epoch 6/10\n",
            "60000/60000 [==============================] - 4s 67us/step - loss: 0.0403 - acc: 0.9872 - val_loss: 0.0397 - val_acc: 0.9871\n",
            "Epoch 7/10\n",
            "60000/60000 [==============================] - 4s 68us/step - loss: 0.0323 - acc: 0.9901 - val_loss: 0.0399 - val_acc: 0.9885\n",
            "Epoch 8/10\n",
            "60000/60000 [==============================] - 4s 68us/step - loss: 0.0298 - acc: 0.9904 - val_loss: 0.0367 - val_acc: 0.9884\n",
            "Epoch 9/10\n",
            "60000/60000 [==============================] - 4s 69us/step - loss: 0.0270 - acc: 0.9917 - val_loss: 0.0400 - val_acc: 0.9878\n",
            "Epoch 10/10\n",
            "60000/60000 [==============================] - 4s 69us/step - loss: 0.0231 - acc: 0.9924 - val_loss: 0.0320 - val_acc: 0.9909\n"
          ],
          "name": "stdout"
        },
        {
          "output_type": "execute_result",
          "data": {
            "text/plain": [
              "<keras.callbacks.History at 0x7fa96163acf8>"
            ]
          },
          "metadata": {
            "tags": []
          },
          "execution_count": 4
        }
      ]
    },
    {
      "cell_type": "code",
      "metadata": {
        "id": "XIThm8BgQg90",
        "colab_type": "code",
        "colab": {}
      },
      "source": [
        "# for layer in pretrained_modelmodel.layers:\n",
        "#     weights = layer.get_weights()\n",
        "# print(weights)    "
      ],
      "execution_count": 0,
      "outputs": []
    },
    {
      "cell_type": "code",
      "metadata": {
        "id": "BYzPfTf4SVFF",
        "colab_type": "code",
        "outputId": "0e05bf21-c53c-41c6-da94-63b489916aad",
        "colab": {
          "base_uri": "https://localhost:8080/",
          "height": 34
        }
      },
      "source": [
        "from google.colab import drive\n",
        "drive.mount('/content/drive')"
      ],
      "execution_count": 6,
      "outputs": [
        {
          "output_type": "stream",
          "text": [
            "Drive already mounted at /content/drive; to attempt to forcibly remount, call drive.mount(\"/content/drive\", force_remount=True).\n"
          ],
          "name": "stdout"
        }
      ]
    },
    {
      "cell_type": "code",
      "metadata": {
        "id": "qxQMLA7qSW1R",
        "colab_type": "code",
        "colab": {}
      },
      "source": [
        "from keras.preprocessing import image\n",
        "train_path = '/content/drive/My Drive/faces94/TLDB/TLDB/Shubham/Train/'\n",
        "test_path = '/content/drive/My Drive/faces94/TLDB/TLDB/Shubham/Test/'"
      ],
      "execution_count": 0,
      "outputs": []
    },
    {
      "cell_type": "code",
      "metadata": {
        "id": "cm3JAcOXC7w0",
        "colab_type": "code",
        "colab": {}
      },
      "source": [
        "from PIL import Image, ImageFilter\n",
        "from matplotlib import pyplot as plt\n",
        "\n",
        "\n",
        "def imageprepare(argv):\n",
        "    \"\"\"\n",
        "    This function returns the pixel values.\n",
        "    The imput is a png file location.\n",
        "    \"\"\"\n",
        "    im = Image.open(argv).convert('L')\n",
        "    width = float(im.size[0])\n",
        "    height = float(im.size[1])\n",
        "    newImage = Image.new('L', (28, 28), (255))  # creates white canvas of 28x28 pixels\n",
        "\n",
        "    if width > height:  # check which dimension is bigger\n",
        "        # Width is bigger. Width becomes 20 pixels.\n",
        "        nheight = int(round((20.0 / width * height), 0))  # resize height according to ratio width\n",
        "        if (nheight == 0):  # rare case but minimum is 1 pixel\n",
        "            nheight = 1\n",
        "            # resize and sharpen\n",
        "        img = im.resize((20, nheight), Image.ANTIALIAS).filter(ImageFilter.SHARPEN)\n",
        "        wtop = int(round(((28 - nheight) / 2), 0))  # calculate horizontal position\n",
        "        newImage.paste(img, (4, wtop))  # paste resized image on white canvas\n",
        "    else:\n",
        "        # Height is bigger. Heigth becomes 20 pixels.\n",
        "        nwidth = int(round((20.0 / height * width), 0))  # resize width according to ratio height\n",
        "        if (nwidth == 0):  # rare case but minimum is 1 pixel\n",
        "            nwidth = 1\n",
        "            # resize and sharpen\n",
        "        img = im.resize((nwidth, 20), Image.ANTIALIAS).filter(ImageFilter.SHARPEN)\n",
        "        wleft = int(round(((28 - nwidth) / 2), 0))  # caculate vertical pozition\n",
        "        newImage.paste(img, (wleft, 4))  # paste resized image on white canvas\n",
        "\n",
        "    # newImage.save(\"sample.png\n",
        "\n",
        "    tv = list(newImage.getdata())  # get pixel values\n",
        "\n",
        "    # normalize pixels to 0 and 1. 0 is pure white, 1 is pure black.\n",
        "    tva = [(255 - x) * 1.0 / 255.0 for x in tv]\n",
        "    #print(tva)\n",
        "    return tva\n",
        "\n",
        "\n",
        "result=[]\n",
        "import numpy as np\n",
        "import glob\n",
        "files=(glob.glob(train_path+\"/*.png\")) #to list names of all the files inside given folder; i.e. relative path\n",
        "n=len(files);\n",
        "    \n",
        "for indx in range(n):\n",
        "        x=[imageprepare(files[indx])]#file path here\n",
        "        newArr=[[0 for d in range(28)] for y in range(28)]\n",
        "        k = 0\n",
        "        for i in range(28):\n",
        "            for j in range(28):\n",
        "                newArr[i][j]=x[0][k]\n",
        "                k=k+1\n",
        "        result.append(newArr)\n",
        "x_npa=np.asarray(result) # converting to NP ARRAY of size (n,28,28)\n",
        "#     return x_npa\n",
        "    \n",
        "\n"
      ],
      "execution_count": 0,
      "outputs": []
    },
    {
      "cell_type": "code",
      "metadata": {
        "id": "6N2B5wXJMHZ3",
        "colab_type": "code",
        "outputId": "81c0c7c2-cedc-40ef-9648-ef7cacf62a1c",
        "colab": {
          "base_uri": "https://localhost:8080/",
          "height": 391
        }
      },
      "source": [
        "x_train_new = x_npa#our dataset\n",
        "y_train_new = np.array([6,7,3,4,8,1,0,2,9,5])\n",
        "\n",
        "#for svm model\n",
        "y_train_new_for_svm=y_train_new\n",
        "x_train_new = x_train_new.reshape([-1,28,28,1])\n",
        "\n",
        "# model.predict(x_train_new)\n",
        "pretrained_removed_model = Model(inputs = pretrained_model.input, outputs = pretrained_model.layers[6].output) #taking only convnet features by excluding two dense layers\n",
        "x_train_features=pretrained_removed_model.predict(x_train_new)\n",
        "pretrained_removed_model.summary()\n",
        "\n",
        "print(x_train_features.shape)\n",
        "\n",
        "\n"
      ],
      "execution_count": 96,
      "outputs": [
        {
          "output_type": "stream",
          "text": [
            "_________________________________________________________________\n",
            "Layer (type)                 Output Shape              Param #   \n",
            "=================================================================\n",
            "input_1 (InputLayer)         (None, 28, 28, 1)         0         \n",
            "_________________________________________________________________\n",
            "conv2d_1 (Conv2D)            (None, 26, 26, 64)        640       \n",
            "_________________________________________________________________\n",
            "max_pooling2d_1 (MaxPooling2 (None, 13, 13, 64)        0         \n",
            "_________________________________________________________________\n",
            "conv2d_2 (Conv2D)            (None, 11, 11, 32)        18464     \n",
            "_________________________________________________________________\n",
            "max_pooling2d_2 (MaxPooling2 (None, 5, 5, 32)          0         \n",
            "_________________________________________________________________\n",
            "conv2d_3 (Conv2D)            (None, 3, 3, 16)          4624      \n",
            "_________________________________________________________________\n",
            "flatten_1 (Flatten)          (None, 144)               0         \n",
            "=================================================================\n",
            "Total params: 23,728\n",
            "Trainable params: 23,728\n",
            "Non-trainable params: 0\n",
            "_________________________________________________________________\n",
            "(10, 144)\n"
          ],
          "name": "stdout"
        }
      ]
    },
    {
      "cell_type": "code",
      "metadata": {
        "id": "PZG7D_riGvOp",
        "colab_type": "code",
        "outputId": "b2f9e09a-6402-4c0f-b553-8618881b66f2",
        "colab": {
          "base_uri": "https://localhost:8080/",
          "height": 306
        }
      },
      "source": [
        "print(x_npa.shape)\n",
        "plt.figure(figsize = (10, 10))\n",
        "\n",
        "for i in range(10):\n",
        "  plt.subplot(4,5,i+1)\n",
        "  plt.imshow(x_npa[i])"
      ],
      "execution_count": 97,
      "outputs": [
        {
          "output_type": "stream",
          "text": [
            "(10, 28, 28)\n"
          ],
          "name": "stdout"
        },
        {
          "output_type": "display_data",
          "data": {
            "image/png": "[encoded data removed]",
            "text/plain": [
              "<Figure size 720x720 with 10 Axes>"
            ]
          },
          "metadata": {
            "tags": []
          }
        }
      ]
    },
    {
      "cell_type": "code",
      "metadata": {
        "id": "7royrzuzOm7I",
        "colab_type": "code",
        "colab": {}
      },
      "source": [
        "y_train_new = np_utils.to_categorical(y_train_new).astype('int32')#same functionality as onehotencoder\n"
      ],
      "execution_count": 0,
      "outputs": []
    },
    {
      "cell_type": "code",
      "metadata": {
        "id": "hOkpM9J0RiEY",
        "colab_type": "code",
        "outputId": "b237dbda-88d3-4784-fa99-7b3d09c9fc00",
        "colab": {
          "base_uri": "https://localhost:8080/",
          "height": 54
        }
      },
      "source": [
        "#for our understanding we are sending our dataset as a test dataset to find how accurate my model is.\n",
        "# y1 = x_train_new[0].reshape(-1,28,28,1)\n",
        "y = pretrained_model.predict(x_train_new)\n",
        "result1 = []\n",
        "\n",
        "for i in range(10):\n",
        "  result1.append(np.where(y[i] == np.amax(y[i])))\n",
        "    \n",
        "    \n",
        "print(result1)"
      ],
      "execution_count": 99,
      "outputs": [
        {
          "output_type": "stream",
          "text": [
            "[(array([9]),), (array([3]),), (array([3]),), (array([4]),), (array([8]),), (array([4]),), (array([9]),), (array([3]),), (array([9]),), (array([5]),)]\n"
          ],
          "name": "stdout"
        }
      ]
    },
    {
      "cell_type": "code",
      "metadata": {
        "id": "lRj_PuNwom9L",
        "colab_type": "code",
        "colab": {}
      },
      "source": [
        "result=[]\n",
        "import numpy as np\n",
        "import glob\n",
        "files=(glob.glob(test_path+\"/*.png\")) #to list names of all the files inside given folder; i.e. relative path\n",
        "n=len(files);\n",
        "    \n",
        "for indx in range(n):\n",
        "        x=[imageprepare(files[indx])]#file path here\n",
        "        newArr=[[0 for d in range(28)] for y in range(28)]\n",
        "        k = 0\n",
        "        for i in range(28):\n",
        "            for j in range(28):\n",
        "                newArr[i][j]=x[0][k]\n",
        "                k=k+1\n",
        "        result.append(newArr)\n",
        "x_npa1=np.asarray(result) # converting to NP ARRAY of size (n,28,28)\n"
      ],
      "execution_count": 0,
      "outputs": []
    },
    {
      "cell_type": "code",
      "metadata": {
        "id": "V2vA72Too2G9",
        "colab_type": "code",
        "outputId": "878e7dd3-9dfd-41f3-a2fe-66f029be6c96",
        "colab": {
          "base_uri": "https://localhost:8080/",
          "height": 68
        }
      },
      "source": [
        "print(x_npa1.shape)\n",
        "# plt.figure(figsize = (10, 10))\n",
        "# for i in range(20):\n",
        "#   plt.subplot(4,5,i+1)\n",
        "#   plt.imshow(x_npa1[i])\n",
        "             \n",
        "x_test_new = x_npa1\n",
        "x_test_new = x_test_new.reshape([-1,28,28,1])\n",
        "\n",
        "y_test_new = np.array([2,5,0,9,5,7,7,9,8,3,3,0,4,6,4,2,1,8,6,1])\n",
        "y_test_new_for_svm=y_test_new\n",
        "print(y_test_new)\n",
        "\n",
        "x_test_features =pretrained_removed_model.predict(x_test_new)\n",
        "y_test_new = np_utils.to_categorical(y_test_new).astype('int32')\n",
        "\n",
        "print(x_train_features.shape)"
      ],
      "execution_count": 101,
      "outputs": [
        {
          "output_type": "stream",
          "text": [
            "(20, 28, 28)\n",
            "[2 5 0 9 5 7 7 9 8 3 3 0 4 6 4 2 1 8 6 1]\n",
            "(10, 144)\n"
          ],
          "name": "stdout"
        }
      ]
    },
    {
      "cell_type": "code",
      "metadata": {
        "id": "OwNv587n7b3b",
        "colab_type": "code",
        "outputId": "985b948f-5649-43e3-dd1e-8739f6c54c72",
        "colab": {
          "base_uri": "https://localhost:8080/",
          "height": 442
        }
      },
      "source": [
        "#testing training only on our dataset\n",
        "\n",
        "inputLr2 = Input(shape = (28,28,1))\n",
        "\n",
        "X12 = Conv2D(64,(3,3), activation = \"relu\")(inputLr2)\n",
        "X12 = MaxPooling2D(pool_size = (2,2))(X12)\n",
        "\n",
        "X22 = Conv2D(32,(3,3), activation = \"relu\")(X12)\n",
        "X22 = MaxPooling2D(pool_size = (2,2))(X22)\n",
        "\n",
        "X32 = Conv2D(16,(3,3), activation = \"relu\")(X22)\n",
        "X32 = Flatten()(X32)\n",
        "\n",
        "X42 = Dense(128, activation  = \"relu\")(X32)\n",
        "OutLr2 = Dense(10, activation  = \"softmax\")(X42) \n",
        "\n",
        "simple_convnet = Model(inputs = inputLr2, outputs = OutLr2)\n",
        "\n",
        "simple_convnet.summary()"
      ],
      "execution_count": 102,
      "outputs": [
        {
          "output_type": "stream",
          "text": [
            "_________________________________________________________________\n",
            "Layer (type)                 Output Shape              Param #   \n",
            "=================================================================\n",
            "input_8 (InputLayer)         (None, 28, 28, 1)         0         \n",
            "_________________________________________________________________\n",
            "conv2d_22 (Conv2D)           (None, 26, 26, 64)        640       \n",
            "_________________________________________________________________\n",
            "max_pooling2d_15 (MaxPooling (None, 13, 13, 64)        0         \n",
            "_________________________________________________________________\n",
            "conv2d_23 (Conv2D)           (None, 11, 11, 32)        18464     \n",
            "_________________________________________________________________\n",
            "max_pooling2d_16 (MaxPooling (None, 5, 5, 32)          0         \n",
            "_________________________________________________________________\n",
            "conv2d_24 (Conv2D)           (None, 3, 3, 16)          4624      \n",
            "_________________________________________________________________\n",
            "flatten_8 (Flatten)          (None, 144)               0         \n",
            "_________________________________________________________________\n",
            "dense_21 (Dense)             (None, 128)               18560     \n",
            "_________________________________________________________________\n",
            "dense_22 (Dense)             (None, 10)                1290      \n",
            "=================================================================\n",
            "Total params: 43,578\n",
            "Trainable params: 43,578\n",
            "Non-trainable params: 0\n",
            "_________________________________________________________________\n"
          ],
          "name": "stdout"
        }
      ]
    },
    {
      "cell_type": "code",
      "metadata": {
        "id": "gFmnd6wf-YWz",
        "colab_type": "code",
        "outputId": "9ca24a4a-744b-4683-d0a4-f9ee30065f0b",
        "colab": {
          "base_uri": "https://localhost:8080/",
          "height": 391
        }
      },
      "source": [
        "simple_convnet.compile(optimizer = \"adam\", loss =\"categorical_crossentropy\", metrics = [\"accuracy\"])\n",
        "simple_convnet.fit(x_train_new, y_train_new, epochs = 10,validation_data=(x_test_new, y_test_new), batch_size = 5)"
      ],
      "execution_count": 103,
      "outputs": [
        {
          "output_type": "stream",
          "text": [
            "Train on 10 samples, validate on 20 samples\n",
            "Epoch 1/10\n",
            "10/10 [==============================] - 1s 83ms/step - loss: 2.3291 - acc: 0.1000 - val_loss: 2.2965 - val_acc: 0.1000\n",
            "Epoch 2/10\n",
            "10/10 [==============================] - 0s 3ms/step - loss: 2.2726 - acc: 0.2000 - val_loss: 2.2920 - val_acc: 0.1500\n",
            "Epoch 3/10\n",
            "10/10 [==============================] - 0s 3ms/step - loss: 2.2374 - acc: 0.2000 - val_loss: 2.2822 - val_acc: 0.1500\n",
            "Epoch 4/10\n",
            "10/10 [==============================] - 0s 3ms/step - loss: 2.2094 - acc: 0.2000 - val_loss: 2.2763 - val_acc: 0.1500\n",
            "Epoch 5/10\n",
            "10/10 [==============================] - 0s 3ms/step - loss: 2.1730 - acc: 0.3000 - val_loss: 2.2697 - val_acc: 0.1500\n",
            "Epoch 6/10\n",
            "10/10 [==============================] - 0s 3ms/step - loss: 2.1309 - acc: 0.6000 - val_loss: 2.2632 - val_acc: 0.2000\n",
            "Epoch 7/10\n",
            "10/10 [==============================] - 0s 3ms/step - loss: 2.0921 - acc: 0.6000 - val_loss: 2.2549 - val_acc: 0.2000\n",
            "Epoch 8/10\n",
            "10/10 [==============================] - 0s 3ms/step - loss: 2.0520 - acc: 0.5000 - val_loss: 2.2469 - val_acc: 0.2000\n",
            "Epoch 9/10\n",
            "10/10 [==============================] - 0s 3ms/step - loss: 1.9952 - acc: 0.5000 - val_loss: 2.2349 - val_acc: 0.2000\n",
            "Epoch 10/10\n",
            "10/10 [==============================] - 0s 3ms/step - loss: 1.9345 - acc: 0.7000 - val_loss: 2.2221 - val_acc: 0.2500\n"
          ],
          "name": "stdout"
        },
        {
          "output_type": "execute_result",
          "data": {
            "text/plain": [
              "<keras.callbacks.History at 0x7fa90ab7f710>"
            ]
          },
          "metadata": {
            "tags": []
          },
          "execution_count": 103
        }
      ]
    },
    {
      "cell_type": "code",
      "metadata": {
        "id": "xONXyp2Ffk1H",
        "colab_type": "code",
        "outputId": "5aa06da7-1dbe-4d19-eeaa-99064e9839b0",
        "colab": {
          "base_uri": "https://localhost:8080/",
          "height": 204
        }
      },
      "source": [
        "from keras.models import Sequential\n",
        "\n",
        "\n",
        "level2_dense_model = Sequential()\n",
        "level2_dense_model.add(Dense(units = 64,input_shape = (144,),activation = \"relu\"))\n",
        "level2_dense_model.add(Dense(units = 10, activation = \"softmax\"))\n",
        "level2_dense_model.summary()\n",
        "\n"
      ],
      "execution_count": 104,
      "outputs": [
        {
          "output_type": "stream",
          "text": [
            "_________________________________________________________________\n",
            "Layer (type)                 Output Shape              Param #   \n",
            "=================================================================\n",
            "dense_23 (Dense)             (None, 64)                9280      \n",
            "_________________________________________________________________\n",
            "dense_24 (Dense)             (None, 10)                650       \n",
            "=================================================================\n",
            "Total params: 9,930\n",
            "Trainable params: 9,930\n",
            "Non-trainable params: 0\n",
            "_________________________________________________________________\n"
          ],
          "name": "stdout"
        }
      ]
    },
    {
      "cell_type": "code",
      "metadata": {
        "id": "EU85a5IynvM8",
        "colab_type": "code",
        "outputId": "d734e80d-5eaa-4758-be63-a5c0850d79be",
        "colab": {
          "base_uri": "https://localhost:8080/",
          "height": 731
        }
      },
      "source": [
        "level2_dense_model.compile(optimizer = \"adam\", loss = \"categorical_crossentropy\", metrics = ['accuracy'])\n",
        "level2_dense_model.fit(x_train_features,\n",
        "                y_train_new,\n",
        "             epochs=20, verbose = 2,\n",
        "                validation_data=(x_test_features, y_test_new),\n",
        "                batch_size=5\n",
        "            )"
      ],
      "execution_count": 105,
      "outputs": [
        {
          "output_type": "stream",
          "text": [
            "Train on 10 samples, validate on 20 samples\n",
            "Epoch 1/20\n",
            " - 1s - loss: 4.1761 - acc: 0.1000 - val_loss: 3.5282 - val_acc: 0.2000\n",
            "Epoch 2/20\n",
            " - 0s - loss: 3.3056 - acc: 0.2000 - val_loss: 3.0661 - val_acc: 0.2500\n",
            "Epoch 3/20\n",
            " - 0s - loss: 2.6859 - acc: 0.3000 - val_loss: 2.7562 - val_acc: 0.2000\n",
            "Epoch 4/20\n",
            " - 0s - loss: 2.3341 - acc: 0.4000 - val_loss: 2.5392 - val_acc: 0.2000\n",
            "Epoch 5/20\n",
            " - 0s - loss: 2.0810 - acc: 0.4000 - val_loss: 2.4052 - val_acc: 0.2500\n",
            "Epoch 6/20\n",
            " - 0s - loss: 1.8376 - acc: 0.4000 - val_loss: 2.3131 - val_acc: 0.1000\n",
            "Epoch 7/20\n",
            " - 0s - loss: 1.6933 - acc: 0.5000 - val_loss: 2.2387 - val_acc: 0.0500\n",
            "Epoch 8/20\n",
            " - 0s - loss: 1.5290 - acc: 0.7000 - val_loss: 2.1781 - val_acc: 0.1500\n",
            "Epoch 9/20\n",
            " - 0s - loss: 1.4280 - acc: 0.7000 - val_loss: 2.1174 - val_acc: 0.2000\n",
            "Epoch 10/20\n",
            " - 0s - loss: 1.2829 - acc: 0.7000 - val_loss: 2.0545 - val_acc: 0.2500\n",
            "Epoch 11/20\n",
            " - 0s - loss: 1.1664 - acc: 0.7000 - val_loss: 1.9880 - val_acc: 0.3000\n",
            "Epoch 12/20\n",
            " - 0s - loss: 1.0409 - acc: 0.8000 - val_loss: 1.9275 - val_acc: 0.3000\n",
            "Epoch 13/20\n",
            " - 0s - loss: 0.9395 - acc: 0.8000 - val_loss: 1.8715 - val_acc: 0.3000\n",
            "Epoch 14/20\n",
            " - 0s - loss: 0.8443 - acc: 0.9000 - val_loss: 1.8224 - val_acc: 0.3000\n",
            "Epoch 15/20\n",
            " - 0s - loss: 0.7648 - acc: 0.9000 - val_loss: 1.7784 - val_acc: 0.3000\n",
            "Epoch 16/20\n",
            " - 0s - loss: 0.6888 - acc: 0.9000 - val_loss: 1.7410 - val_acc: 0.3000\n",
            "Epoch 17/20\n",
            " - 0s - loss: 0.6094 - acc: 0.9000 - val_loss: 1.7102 - val_acc: 0.2500\n",
            "Epoch 18/20\n",
            " - 0s - loss: 0.5527 - acc: 0.9000 - val_loss: 1.6826 - val_acc: 0.2500\n",
            "Epoch 19/20\n",
            " - 0s - loss: 0.4970 - acc: 1.0000 - val_loss: 1.6565 - val_acc: 0.3000\n",
            "Epoch 20/20\n",
            " - 0s - loss: 0.4498 - acc: 1.0000 - val_loss: 1.6312 - val_acc: 0.3500\n"
          ],
          "name": "stdout"
        },
        {
          "output_type": "execute_result",
          "data": {
            "text/plain": [
              "<keras.callbacks.History at 0x7fa90a81e0f0>"
            ]
          },
          "metadata": {
            "tags": []
          },
          "execution_count": 105
        }
      ]
    },
    {
      "cell_type": "code",
      "metadata": {
        "id": "xVoj9RpYnlPM",
        "colab_type": "code",
        "outputId": "4c7e9eb3-47ee-4b31-b583-82a8dea36827",
        "colab": {
          "base_uri": "https://localhost:8080/",
          "height": 54
        }
      },
      "source": [
        "y1 = level2_dense_model.predict(x_test_features)\n",
        "result1 = []\n",
        "\n",
        "for i in range(20):\n",
        "  result1.append(np.where(y1[i] == np.amax(y1[i])))\n",
        "    \n",
        "    \n",
        "print(result1)"
      ],
      "execution_count": 106,
      "outputs": [
        {
          "output_type": "stream",
          "text": [
            "[(array([2]),), (array([8]),), (array([8]),), (array([4]),), (array([5]),), (array([5]),), (array([7]),), (array([3]),), (array([8]),), (array([9]),), (array([9]),), (array([0]),), (array([6]),), (array([5]),), (array([6]),), (array([2]),), (array([1]),), (array([3]),), (array([8]),), (array([6]),)]\n"
          ],
          "name": "stdout"
        }
      ]
    },
    {
      "cell_type": "code",
      "metadata": {
        "id": "yLwpcZuT9Ei-",
        "colab_type": "code",
        "outputId": "748b435c-6f56-4bb7-d435-7aec06ad2956",
        "colab": {
          "base_uri": "https://localhost:8080/",
          "height": 156
        }
      },
      "source": [
        "#pretrained_model= convnet , and new_model=svm\n",
        "from sklearn.svm import SVC\n",
        "level2_svm_classifier = SVC(kernel = 'rbf', random_state = 0)\n",
        "print(x_train_features.shape)\n",
        "\n",
        "level2_svm_classifier.fit(x_train_features, y_train_new_for_svm)"
      ],
      "execution_count": 107,
      "outputs": [
        {
          "output_type": "stream",
          "text": [
            "(10, 144)\n"
          ],
          "name": "stdout"
        },
        {
          "output_type": "stream",
          "text": [
            "/usr/local/lib/python3.6/dist-packages/sklearn/svm/base.py:193: FutureWarning: The default value of gamma will change from 'auto' to 'scale' in version 0.22 to account better for unscaled features. Set gamma explicitly to 'auto' or 'scale' to avoid this warning.\n",
            "  \"avoid this warning.\", FutureWarning)\n"
          ],
          "name": "stderr"
        },
        {
          "output_type": "execute_result",
          "data": {
            "text/plain": [
              "SVC(C=1.0, cache_size=200, class_weight=None, coef0=0.0,\n",
              "    decision_function_shape='ovr', degree=3, gamma='auto_deprecated',\n",
              "    kernel='rbf', max_iter=-1, probability=False, random_state=0,\n",
              "    shrinking=True, tol=0.001, verbose=False)"
            ]
          },
          "metadata": {
            "tags": []
          },
          "execution_count": 107
        }
      ]
    },
    {
      "cell_type": "code",
      "metadata": {
        "id": "DnhOhcUGJ5z0",
        "colab_type": "code",
        "colab": {}
      },
      "source": [
        "y_pred_by_svm=level2_svm_classifier.predict(x_test_features)\n",
        "from sklearn.metrics import confusion_matrix\n",
        "cn=confusion_matrix(y_test_new_for_svm,y_pred_by_svm)"
      ],
      "execution_count": 0,
      "outputs": []
    },
    {
      "cell_type": "code",
      "metadata": {
        "id": "hFTLYLNLJyK2",
        "colab_type": "code",
        "outputId": "77920200-5873-4875-d59d-bcdf25ccf156",
        "colab": {
          "base_uri": "https://localhost:8080/",
          "height": 187
        }
      },
      "source": [
        "print(cn)"
      ],
      "execution_count": 109,
      "outputs": [
        {
          "output_type": "stream",
          "text": [
            "[[2 0 0 0 0 0 0 0 0 0]\n",
            " [0 1 0 0 1 0 0 0 0 0]\n",
            " [0 0 2 0 0 0 0 0 0 0]\n",
            " [0 0 0 0 0 0 0 0 0 2]\n",
            " [0 0 0 0 2 0 0 0 0 0]\n",
            " [0 0 0 0 0 1 0 0 1 0]\n",
            " [0 1 0 0 0 0 0 0 1 0]\n",
            " [0 0 0 0 0 0 0 2 0 0]\n",
            " [0 0 0 0 0 0 0 0 2 0]\n",
            " [0 0 0 0 0 0 0 0 0 2]]\n"
          ],
          "name": "stdout"
        }
      ]
    },
    {
      "cell_type": "code",
      "metadata": {
        "id": "xymuhFtOJVLj",
        "colab_type": "code",
        "colab": {
          "base_uri": "https://localhost:8080/",
          "height": 51
        },
        "outputId": "931a992c-0063-41f6-de46-fab2f7a5d342"
      },
      "source": [
        "from sklearn.metrics import accuracy_score\n",
        "\n",
        "# get the accuracy\n",
        "print(accuracy_score(y_test_new_for_svm, y_pred_by_svm))\n",
        "\n",
        "y_train_pred_by_svm=level2_svm_classifier.predict(x_train_features)\n",
        "\n",
        "print(accuracy_score(y_train_new_for_svm, y_train_pred_by_svm))"
      ],
      "execution_count": 110,
      "outputs": [
        {
          "output_type": "stream",
          "text": [
            "0.7\n",
            "1.0\n"
          ],
          "name": "stdout"
        }
      ]
    }
  ]
}