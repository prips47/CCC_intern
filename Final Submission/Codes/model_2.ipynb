{
  "nbformat": 4,
  "nbformat_minor": 0,
  "metadata": {
    "colab": {
      "name": "model_2.ipynb",
      "version": "0.3.2",
      "provenance": [],
      "collapsed_sections": []
    },
    "kernelspec": {
      "name": "python3",
      "display_name": "Python 3"
    },
    "accelerator": "GPU"
  },
  "cells": [
    {
      "cell_type": "markdown",
      "metadata": {
        "id": "HHfUwGH2P55c",
        "colab_type": "text"
      },
      "source": [
        "**Transfer Learning with Domain Adaptation**\n",
        "\n",
        "We are applying domain adaptation while training our pre-trained model. \n"
      ]
    },
    {
      "cell_type": "code",
      "metadata": {
        "id": "FPCqqP1lrFk7",
        "colab_type": "code",
        "outputId": "8375beb3-948f-4ef9-b29a-1c197a39390b",
        "colab": {
          "base_uri": "https://localhost:8080/",
          "height": 34
        }
      },
      "source": [
        "%matplotlib inline\n",
        "\n",
        "import numpy as np\n",
        "from keras.layers import Input, Dense, Activation, BatchNormalization, PReLU, Dropout,Conv2D,MaxPooling2D,Flatten\n",
        "from keras.models import Model\n",
        "from keras.optimizers import SGD\n",
        "from keras.utils import to_categorical\n",
        "from sklearn.metrics import accuracy_score24\n",
        "import matplotlib.pyplot as plt"
      ],
      "execution_count": 0,
      "outputs": [
        {
          "output_type": "stream",
          "text": [
            "Using TensorFlow backend.\n"
          ],
          "name": "stderr"
        }
      ]
    },
    {
      "cell_type": "code",
      "metadata": {
        "id": "3pVLWbLc2TQx",
        "colab_type": "code",
        "colab": {}
      },
      "source": [
        "from keras.datasets import mnist\n",
        "(x_train_mnist, y_train_mnist), (x_test_mnist, y_test_mnist) = mnist.load_data()"
      ],
      "execution_count": 0,
      "outputs": []
    },
    {
      "cell_type": "code",
      "metadata": {
        "id": "JtRtAISh2sCi",
        "colab_type": "code",
        "outputId": "632b6162-cd3c-4641-db5a-bb27b6f7e7df",
        "colab": {
          "base_uri": "https://localhost:8080/",
          "height": 34
        }
      },
      "source": [
        "from google.colab import drive\n",
        "drive.mount('/content/drive')"
      ],
      "execution_count": 0,
      "outputs": [
        {
          "output_type": "stream",
          "text": [
            "Drive already mounted at /content/drive; to attempt to forcibly remount, call drive.mount(\"/content/drive\", force_remount=True).\n"
          ],
          "name": "stdout"
        }
      ]
    },
    {
      "cell_type": "code",
      "metadata": {
        "id": "6n_zWk4H21FD",
        "colab_type": "code",
        "colab": {}
      },
      "source": [
        "# our handwritten samples\n",
        "from keras.preprocessing import image\n",
        "train_path = '/content/drive/My Drive/TLDB/Shubham/Train/'\n",
        "test_path = '/content/drive/My Drive/TLDB/Shubham/Test/'"
      ],
      "execution_count": 0,
      "outputs": []
    },
    {
      "cell_type": "code",
      "metadata": {
        "id": "SD3ZcoTx3GjT",
        "colab_type": "code",
        "colab": {}
      },
      "source": [
        "from PIL import Image, ImageFilter\n",
        "from matplotlib import pyplot as plt\n",
        "\n",
        "\n",
        "def imageprepare(argv):\n",
        "    \"\"\"\n",
        "    This function returns the pixel values.\n",
        "    The imput is a png file location.\n",
        "    \"\"\"\n",
        "    im = Image.open(argv).convert('L')\n",
        "    width = float(im.size[0])\n",
        "    height = float(im.size[1])\n",
        "    newImage = Image.new('L', (28, 28), (255))  # creates white canvas of 28x28 pixels\n",
        "\n",
        "    if width > height:  # check which dimension is bigger\n",
        "        # Width is bigger. Width becomes 20 pixels.\n",
        "        nheight = int(round((20.0 / width * height), 0))  # resize height according to ratio width\n",
        "        if (nheight == 0):  # rare case but minimum is 1 pixel\n",
        "            nheight = 1\n",
        "            # resize and sharpen\n",
        "        img = im.resize((20, nheight), Image.ANTIALIAS).filter(ImageFilter.SHARPEN)\n",
        "        wtop = int(round(((28 - nheight) / 2), 0))  # calculate horizontal position\n",
        "        newImage.paste(img, (4, wtop))  # paste resized image on white canvas\n",
        "    else:\n",
        "        # Height is bigger. Heigth becomes 20 pixels.\n",
        "        nwidth = int(round((20.0 / height * width), 0))  # resize width according to ratio height\n",
        "        if (nwidth == 0):  # rare case but minimum is 1 pixel\n",
        "            nwidth = 1\n",
        "            # resize and sharpen\n",
        "        img = im.resize((nwidth, 20), Image.ANTIALIAS).filter(ImageFilter.SHARPEN)\n",
        "        wleft = int(round(((28 - nwidth) / 2), 0))  # caculate vertical pozition\n",
        "        newImage.paste(img, (wleft, 4))  # paste resized image on white canvas\n",
        "\n",
        "    # newImage.save(\"sample.png\n",
        "\n",
        "    tv = list(newImage.getdata())  # get pixel values\n",
        "\n",
        "    # normalize pixels to 0 and 1. 0 is pure white, 1 is pure black.\n",
        "    tva = [(255 - x) * 1.0 / 255.0 for x in tv]\n",
        "    #print(tva)\n",
        "    return tva\n",
        "\n",
        "\n",
        "result=[]\n",
        "import numpy as np\n",
        "import glob\n",
        "files=(glob.glob(train_path+\"/*.png\")) #to list names of all the files inside given folder; i.e. relative path\n",
        "n=len(files);\n",
        "    \n",
        "for indx in range(n):\n",
        "        x=[imageprepare(files[indx])]#file path here\n",
        "        newArr=[[0 for d in range(28)] for y in range(28)]\n",
        "        k = 0\n",
        "        for i in range(28):\n",
        "            for j in range(28):\n",
        "                newArr[i][j]=x[0][k]\n",
        "                k=k+1\n",
        "        result.append(newArr)\n",
        "x_npa=np.asarray(result) # converting to NP ARRAY of size (n,28,28)\n",
        "#     return x_npa\n",
        "    \n",
        "\n",
        "\n"
      ],
      "execution_count": 0,
      "outputs": []
    },
    {
      "cell_type": "code",
      "metadata": {
        "id": "9U5CRMRO3NV0",
        "colab_type": "code",
        "colab": {}
      },
      "source": [
        "x_train_new = x_npa#our dataset\n",
        "y_train_new = np.array([6,4,8,3,1,7,9,2,0,5,8,3,7,9,0,1,6,2,5,4])\n",
        "\n",
        "#level2(SVM)\n",
        "y_train_for_svm=y_train_new\n"
      ],
      "execution_count": 0,
      "outputs": []
    },
    {
      "cell_type": "code",
      "metadata": {
        "id": "PZG7D_riGvOp",
        "colab_type": "code",
        "outputId": "8cc81b9b-7f66-4d38-c605-aecc128e100a",
        "colab": {
          "base_uri": "https://localhost:8080/",
          "height": 590
        }
      },
      "source": [
        "print(x_npa.shape)\n",
        "plt.figure(figsize = (10, 10))\n",
        "\n",
        "for i in range(20):\n",
        "  plt.subplot(4,5,i+1)\n",
        "  plt.imshow(x_npa[i])"
      ],
      "execution_count": 0,
      "outputs": [
        {
          "output_type": "stream",
          "text": [
            "(20, 28, 28)\n"
          ],
          "name": "stdout"
        },
        {
          "output_type": "display_data",
          "data": {
            "image/png": "[encoded data removed]",
            "text/plain": [
              "<Figure size 720x720 with 20 Axes>"
            ]
          },
          "metadata": {
            "tags": []
          }
        }
      ]
    },
    {
      "cell_type": "code",
      "metadata": {
        "id": "lRj_PuNwom9L",
        "colab_type": "code",
        "colab": {}
      },
      "source": [
        "result=[]\n",
        "import numpy as np\n",
        "import glob\n",
        "files=(glob.glob(test_path+\"/*.png\")) #to list names of all the files inside given folder; i.e. relative path\n",
        "n=len(files);\n",
        "    \n",
        "for indx in range(n):\n",
        "        x=[imageprepare(files[indx])]#file path here\n",
        "        newArr=[[0 for d in range(28)] for y in range(28)]\n",
        "        k = 0\n",
        "        for i in range(28):\n",
        "            for j in range(28):\n",
        "                newArr[i][j]=x[0][k]\n",
        "                k=k+1\n",
        "        result.append(newArr)\n",
        "x_npa1=np.asarray(result) # converting to NP ARRAY of size (n,28,28)\n"
      ],
      "execution_count": 0,
      "outputs": []
    },
    {
      "cell_type": "code",
      "metadata": {
        "id": "CDf6H2wR48KZ",
        "colab_type": "code",
        "colab": {}
      },
      "source": [
        "x_test_new = x_npa1\n",
        "y_test_new = np.array([8,2,1,3,0,0,4,3,4,9,7,9,1,8,7,6,5,2,5,6])\n",
        "\n",
        "# for level2(SVM)\n",
        "y_test_for_svm=y_test_new"
      ],
      "execution_count": 0,
      "outputs": []
    },
    {
      "cell_type": "code",
      "metadata": {
        "id": "V2vA72Too2G9",
        "colab_type": "code",
        "outputId": "5ea9e3b0-60d8-4dfb-d082-83bb03b11c23",
        "colab": {
          "base_uri": "https://localhost:8080/",
          "height": 590
        }
      },
      "source": [
        "print(x_npa1.shape)\n",
        "plt.figure(figsize = (10, 10))\n",
        "for i in range(20):\n",
        "  plt.subplot(4,5,i+1)\n",
        "  plt.imshow(x_npa1[i])\n"
      ],
      "execution_count": 0,
      "outputs": [
        {
          "output_type": "stream",
          "text": [
            "(20, 28, 28)\n"
          ],
          "name": "stdout"
        },
        {
          "output_type": "display_data",
          "data": {
            "image/png": "[encoded data removed]",
            "text/plain": [
              "<Figure size 720x720 with 20 Axes>"
            ]
          },
          "metadata": {
            "tags": []
          }
        }
      ]
    },
    {
      "cell_type": "code",
      "metadata": {
        "id": "zqcRw4JTrP6V",
        "colab_type": "code",
        "colab": {}
      },
      "source": [
        "# Preparing input for model at level 1\n",
        "\n",
        "image_size=28;\n",
        "x_train_total= np.concatenate([x_train_mnist,x_train_new])\n",
        "x_test_total=  np.concatenate([x_test_mnist,x_test_new])\n",
        "\n",
        "x_train_total = np.reshape(x_train_total, [-1, image_size, image_size, 1])#changing to (n, 28,28,1)\n",
        "x_test_total = np.reshape(x_test_total, [-1, image_size, image_size, 1])\n",
        "\n",
        "x_train_total = x_train_total.astype('float32') / 255\n",
        "x_test_total = x_test_total.astype('float32') / 255\n",
        "\n"
      ],
      "execution_count": 0,
      "outputs": []
    },
    {
      "cell_type": "code",
      "metadata": {
        "id": "zTXdEmNK6HWJ",
        "colab_type": "code",
        "colab": {}
      },
      "source": [
        "y_train_total= np.concatenate([y_train_mnist,y_train_new])\n",
        "y_test_total=  np.concatenate([y_test_mnist,y_test_new])\n",
        "\n",
        "y_train_domain=np.concatenate([np.zeros(x_train_mnist.shape[0]),np.ones(x_train_new.shape[0])])\n",
        "y_test_domain=np.concatenate([np.zeros(x_test_mnist.shape[0]),np.ones(x_test_new.shape[0])])\n"
      ],
      "execution_count": 0,
      "outputs": []
    },
    {
      "cell_type": "code",
      "metadata": {
        "id": "6sK4LOgb6PVH",
        "colab_type": "code",
        "colab": {}
      },
      "source": [
        "#same functionality as onehotencoder\n",
        "from keras.utils import np_utils\n",
        "\n",
        "y_train_total = np_utils.to_categorical(y_train_total).astype('int32')\n",
        "y_test_total = np_utils.to_categorical(y_test_total)\n",
        "\n",
        "y_test_domain = np_utils.to_categorical(y_test_domain)\n",
        "y_train_domain = np_utils.to_categorical(y_train_domain)"
      ],
      "execution_count": 0,
      "outputs": []
    },
    {
      "cell_type": "code",
      "metadata": {
        "id": "LRPY36XnrXRE",
        "colab_type": "code",
        "colab": {}
      },
      "source": [
        "# Multioutput Model\n",
        "\n",
        "inputLr = Input(shape = (28,28,1))\n",
        "\n",
        "X1 = Conv2D(64,(3,3), activation = \"relu\")(inputLr)\n",
        "X1 = MaxPooling2D(pool_size = (2,2))(X1)\n",
        "\n",
        "X2 = Conv2D(32,(3,3), activation = \"relu\")(X1)\n",
        "X2 = MaxPooling2D(pool_size = (2,2))(X2)\n",
        "\n",
        "X3 = Conv2D(16,(3,3), activation = \"relu\")(X2)\n",
        "X3 = Flatten()(X3)\n",
        "\n",
        "X4 = Dense(128, activation  = \"relu\")(X3)\n",
        "OutLr1 = Dense(10, activation  = \"softmax\",name='output1')(X4) \n",
        "\n",
        "X4 = Dense(64, activation  = \"relu\")(X3)\n",
        "OutLr2 = Dense(2, activation  = \"softmax\",name='output2')(X4)\n",
        "\n",
        "pretrained_model = Model(inputs = inputLr, outputs =[OutLr1,OutLr2])\n",
        "\n",
        "pretrained_model.summary()"
      ],
      "execution_count": 0,
      "outputs": []
    },
    {
      "cell_type": "code",
      "metadata": {
        "id": "yg-mCAqp_Oxh",
        "colab_type": "code",
        "colab": {}
      },
      "source": [
        "loss_funcs = {\n",
        "        \"output1\": \"categorical_crossentropy\",\n",
        "        \"output2\": \"categorical_crossentropy\"  }\n",
        "\n",
        "loss_weights = {\"output1\": 1.0,\"output2\": -1.0}\n",
        "\n",
        "metrics = {\n",
        "        \"output1\": \"accuracy\",\n",
        "        \"output2\": \"accuracy\"   }"
      ],
      "execution_count": 0,
      "outputs": []
    },
    {
      "cell_type": "code",
      "metadata": {
        "id": "lvyp8zgM_Q8U",
        "colab_type": "code",
        "colab": {}
      },
      "source": [
        "y_trains = {\n",
        "        \"output1\": y_train_total,\n",
        "        \"output2\": y_train_domain  }  # y_train_total is between 0 to 9 and y_train_domain is 0 or 1; 0 for mnnist and 1 for our sample \n",
        "\n",
        "y_valids = {\n",
        "        \"output1\": y_test_total,\n",
        "        \"output2\": y_test_domain  }"
      ],
      "execution_count": 0,
      "outputs": []
    },
    {
      "cell_type": "code",
      "metadata": {
        "id": "4EJGTf6j_VJW",
        "colab_type": "code",
        "outputId": "3a642332-7be9-4f33-996d-c4885b2d2fdb",
        "colab": {
          "base_uri": "https://localhost:8080/",
          "height": 125
        }
      },
      "source": [
        "pretrained_model.compile(optimizer='adam',loss=loss_funcs, loss_weights=loss_weights, metrics=metrics)"
      ],
      "execution_count": 0,
      "outputs": [
        {
          "output_type": "stream",
          "text": [
            "W0717 08:24:16.733550 139709608503168 deprecation_wrapper.py:119] From /usr/local/lib/python3.6/dist-packages/keras/optimizers.py:790: The name tf.train.Optimizer is deprecated. Please use tf.compat.v1.train.Optimizer instead.\n",
            "\n",
            "W0717 08:24:16.763233 139709608503168 deprecation_wrapper.py:119] From /usr/local/lib/python3.6/dist-packages/keras/backend/tensorflow_backend.py:3295: The name tf.log is deprecated. Please use tf.math.log instead.\n",
            "\n"
          ],
          "name": "stderr"
        }
      ]
    },
    {
      "cell_type": "code",
      "metadata": {
        "id": "w8x2kzce_ZgE",
        "colab_type": "code",
        "outputId": "43d49faf-a200-4cc3-f584-462a0923b809",
        "colab": {
          "base_uri": "https://localhost:8080/",
          "height": 1000
        }
      },
      "source": [
        "history = pretrained_model.fit(\n",
        "                        x_train_total, y_trains, \n",
        "                        batch_size=128,\n",
        "                        epochs=5,\n",
        "                        validation_data=(x_test_total,y_valids),\n",
        "                        #callbacks=[schedule_lr,check_point1,tb],\n",
        "                        shuffle=True)"
      ],
      "execution_count": 0,
      "outputs": [
        {
          "output_type": "stream",
          "text": [
            "W0717 08:24:16.957675 139709608503168 deprecation.py:323] From /usr/local/lib/python3.6/dist-packages/tensorflow/python/ops/math_grad.py:1250: add_dispatch_support.<locals>.wrapper (from tensorflow.python.ops.array_ops) is deprecated and will be removed in a future version.\n",
            "Instructions for updating:\n",
            "Use tf.where in 2.0, which has the same broadcast rule as np.where\n",
            "W0717 08:24:17.075467 139709608503168 deprecation_wrapper.py:119] From /usr/local/lib/python3.6/dist-packages/keras/backend/tensorflow_backend.py:986: The name tf.assign_add is deprecated. Please use tf.compat.v1.assign_add instead.\n",
            "\n"
          ],
          "name": "stderr"
        },
        {
          "output_type": "stream",
          "text": [
            "Train on 60020 samples, validate on 10020 samples\n",
            "Epoch 1/5\n",
            "60020/60020 [==============================] - 8s 132us/step - loss: -15.1691 - output1_loss: 0.5536 - output2_loss: 15.7227 - output1_acc: 0.8192 - output2_acc: 0.0023 - val_loss: -15.8991 - val_output1_loss: 0.1868 - val_output2_loss: 16.0859 - val_output1_acc: 0.9425 - val_output2_acc: 0.0020\n",
            "Epoch 2/5\n",
            "60020/60020 [==============================] - 5s 77us/step - loss: -15.9701 - output1_loss: 0.1427 - output2_loss: 16.1127 - output1_acc: 0.9560 - output2_acc: 3.3322e-04 - val_loss: -15.9804 - val_output1_loss: 0.1059 - val_output2_loss: 16.0863 - val_output1_acc: 0.9682 - val_output2_acc: 0.0020\n",
            "Epoch 3/5\n",
            "60020/60020 [==============================] - 5s 78us/step - loss: -16.0175 - output1_loss: 0.0954 - output2_loss: 16.1129 - output1_acc: 0.9711 - output2_acc: 3.3322e-04 - val_loss: -16.0099 - val_output1_loss: 0.0774 - val_output2_loss: 16.0872 - val_output1_acc: 0.9754 - val_output2_acc: 0.0020\n",
            "Epoch 4/5\n",
            "60020/60020 [==============================] - 5s 77us/step - loss: -16.0356 - output1_loss: 0.0773 - output2_loss: 16.1129 - output1_acc: 0.9762 - output2_acc: 1.8327e-04 - val_loss: -16.0219 - val_output1_loss: 0.0654 - val_output2_loss: 16.0873 - val_output1_acc: 0.9783 - val_output2_acc: 0.0020\n",
            "Epoch 5/5\n",
            "60020/60020 [==============================] - 5s 77us/step - loss: -16.0488 - output1_loss: 0.0643 - output2_loss: 16.1131 - output1_acc: 0.9802 - output2_acc: 4.9983e-05 - val_loss: -16.0284 - val_output1_loss: 0.0668 - val_output2_loss: 16.0951 - val_output1_acc: 0.9775 - val_output2_acc: 0.0000e+00\n"
          ],
          "name": "stdout"
        }
      ]
    },
    {
      "cell_type": "code",
      "metadata": {
        "id": "FwskMjhi3zJm",
        "colab_type": "code",
        "outputId": "14a51ea7-885f-4b88-bab0-16d63581fc84",
        "colab": {
          "base_uri": "https://localhost:8080/",
          "height": 374
        }
      },
      "source": [
        "x_train_new = np.reshape(x_train_new, [-1, image_size, image_size, 1])\n",
        "# model.predict(x_train_new)\n",
        "pretrained_removed_model = Model(inputs = pretrained_model.input, outputs = pretrained_model.layers[6].output) #taking only convnet features by excluding two dense layers\n",
        "x_train_features=pretrained_removed_model.predict(x_train_new)\n",
        "pretrained_removed_model.summary()\n",
        "\n",
        "x_train_for_svm= x_train_features\n"
      ],
      "execution_count": 0,
      "outputs": [
        {
          "output_type": "stream",
          "text": [
            "_________________________________________________________________\n",
            "Layer (type)                 Output Shape              Param #   \n",
            "=================================================================\n",
            "input_1 (InputLayer)         (None, 28, 28, 1)         0         \n",
            "_________________________________________________________________\n",
            "conv2d_1 (Conv2D)            (None, 26, 26, 64)        640       \n",
            "_________________________________________________________________\n",
            "max_pooling2d_1 (MaxPooling2 (None, 13, 13, 64)        0         \n",
            "_________________________________________________________________\n",
            "conv2d_2 (Conv2D)            (None, 11, 11, 32)        18464     \n",
            "_________________________________________________________________\n",
            "max_pooling2d_2 (MaxPooling2 (None, 5, 5, 32)          0         \n",
            "_________________________________________________________________\n",
            "conv2d_3 (Conv2D)            (None, 3, 3, 16)          4624      \n",
            "_________________________________________________________________\n",
            "flatten_1 (Flatten)          (None, 144)               0         \n",
            "=================================================================\n",
            "Total params: 23,728\n",
            "Trainable params: 23,728\n",
            "Non-trainable params: 0\n",
            "_________________________________________________________________\n"
          ],
          "name": "stdout"
        }
      ]
    },
    {
      "cell_type": "code",
      "metadata": {
        "id": "N_t5CwhiLeeB",
        "colab_type": "code",
        "colab": {}
      },
      "source": [
        ""
      ],
      "execution_count": 0,
      "outputs": []
    },
    {
      "cell_type": "code",
      "metadata": {
        "id": "XIThm8BgQg90",
        "colab_type": "code",
        "colab": {}
      },
      "source": [
        "# for layer in pretrained_modelmodel.layers:\n",
        "#     weights = layer.get_weights()\n",
        "# print(weights)    "
      ],
      "execution_count": 0,
      "outputs": []
    },
    {
      "cell_type": "code",
      "metadata": {
        "id": "cm3JAcOXC7w0",
        "colab_type": "code",
        "outputId": "15e3d2d9-9076-44cd-83e2-dc363afaed8b",
        "colab": {
          "base_uri": "https://localhost:8080/",
          "height": 34
        }
      },
      "source": [
        "x_test_new = np.reshape(x_test_new, [-1, image_size, image_size, 1])\n",
        "\n",
        "x_test_features =pretrained_removed_model.predict(x_test_new) #x_test_new_for_svm\n",
        "x_test_for_svm= x_test_features\n",
        "\n",
        "print(x_train_features.shape)"
      ],
      "execution_count": 0,
      "outputs": [
        {
          "output_type": "stream",
          "text": [
            "(20, 144)\n"
          ],
          "name": "stdout"
        }
      ]
    },
    {
      "cell_type": "code",
      "metadata": {
        "id": "OwNv587n7b3b",
        "colab_type": "code",
        "outputId": "e2f34d7d-eed8-4f98-d0b4-4c1aa91927e8",
        "colab": {
          "base_uri": "https://localhost:8080/",
          "height": 442
        }
      },
      "source": [
        "#testing training only on our dataset (Not using Transfer Learning and domain adoptation)\n",
        "\n",
        "inputLr2 = Input(shape = (28,28,1))\n",
        "\n",
        "X12 = Conv2D(64,(3,3), activation = \"relu\")(inputLr2)\n",
        "X12 = MaxPooling2D(pool_size = (2,2))(X12)\n",
        "\n",
        "X22 = Conv2D(32,(3,3), activation = \"relu\")(X12)\n",
        "X22 = MaxPooling2D(pool_size = (2,2))(X22)\n",
        "\n",
        "X32 = Conv2D(16,(3,3), activation = \"relu\")(X22)\n",
        "X32 = Flatten()(X32)\n",
        "\n",
        "X42 = Dense(128, activation  = \"relu\")(X32)\n",
        "OutLr2 = Dense(10, activation  = \"softmax\")(X42) \n",
        "\n",
        "simple_convnet = Model(inputs = inputLr2, outputs = OutLr2)\n",
        "\n",
        "simple_convnet.summary()"
      ],
      "execution_count": 0,
      "outputs": [
        {
          "output_type": "stream",
          "text": [
            "_________________________________________________________________\n",
            "Layer (type)                 Output Shape              Param #   \n",
            "=================================================================\n",
            "input_2 (InputLayer)         (None, 28, 28, 1)         0         \n",
            "_________________________________________________________________\n",
            "conv2d_4 (Conv2D)            (None, 26, 26, 64)        640       \n",
            "_________________________________________________________________\n",
            "max_pooling2d_3 (MaxPooling2 (None, 13, 13, 64)        0         \n",
            "_________________________________________________________________\n",
            "conv2d_5 (Conv2D)            (None, 11, 11, 32)        18464     \n",
            "_________________________________________________________________\n",
            "max_pooling2d_4 (MaxPooling2 (None, 5, 5, 32)          0         \n",
            "_________________________________________________________________\n",
            "conv2d_6 (Conv2D)            (None, 3, 3, 16)          4624      \n",
            "_________________________________________________________________\n",
            "flatten_2 (Flatten)          (None, 144)               0         \n",
            "_________________________________________________________________\n",
            "dense_3 (Dense)              (None, 128)               18560     \n",
            "_________________________________________________________________\n",
            "dense_4 (Dense)              (None, 10)                1290      \n",
            "=================================================================\n",
            "Total params: 43,578\n",
            "Trainable params: 43,578\n",
            "Non-trainable params: 0\n",
            "_________________________________________________________________\n"
          ],
          "name": "stdout"
        }
      ]
    },
    {
      "cell_type": "code",
      "metadata": {
        "id": "gFmnd6wf-YWz",
        "colab_type": "code",
        "outputId": "f28ddbe7-773b-4d07-8f7c-8aae2f616cc4",
        "colab": {
          "base_uri": "https://localhost:8080/",
          "height": 408
        }
      },
      "source": [
        "y_train_new = np_utils.to_categorical(y_train_new)\n",
        "y_test_new = np_utils.to_categorical(y_test_new)\n",
        "print(y_test_new.shape)\n",
        "\n",
        "\n",
        "simple_convnet.compile(optimizer = \"adam\", loss =\"categorical_crossentropy\", metrics = [\"accuracy\"])\n",
        "\n",
        "simple_convnet.fit(x_train_new, y_train_new, epochs = 10,validation_data=(x_test_new, y_test_new), batch_size = 5)"
      ],
      "execution_count": 0,
      "outputs": [
        {
          "output_type": "stream",
          "text": [
            "(20, 10)\n",
            "Train on 20 samples, validate on 20 samples\n",
            "Epoch 1/10\n",
            "20/20 [==============================] - 0s 25ms/step - loss: 2.3165 - acc: 0.0500 - val_loss: 2.3007 - val_acc: 0.1000\n",
            "Epoch 2/10\n",
            "20/20 [==============================] - 0s 2ms/step - loss: 2.2856 - acc: 0.2500 - val_loss: 2.2941 - val_acc: 0.2000\n",
            "Epoch 3/10\n",
            "20/20 [==============================] - 0s 2ms/step - loss: 2.2625 - acc: 0.4000 - val_loss: 2.2877 - val_acc: 0.1500\n",
            "Epoch 4/10\n",
            "20/20 [==============================] - 0s 2ms/step - loss: 2.2442 - acc: 0.4000 - val_loss: 2.2839 - val_acc: 0.2000\n",
            "Epoch 5/10\n",
            "20/20 [==============================] - 0s 1ms/step - loss: 2.2162 - acc: 0.3000 - val_loss: 2.2783 - val_acc: 0.2000\n",
            "Epoch 6/10\n",
            "20/20 [==============================] - 0s 2ms/step - loss: 2.1801 - acc: 0.4000 - val_loss: 2.2672 - val_acc: 0.2500\n",
            "Epoch 7/10\n",
            "20/20 [==============================] - 0s 2ms/step - loss: 2.1311 - acc: 0.5500 - val_loss: 2.2523 - val_acc: 0.2500\n",
            "Epoch 8/10\n",
            "20/20 [==============================] - 0s 2ms/step - loss: 2.0776 - acc: 0.6000 - val_loss: 2.2346 - val_acc: 0.3000\n",
            "Epoch 9/10\n",
            "20/20 [==============================] - 0s 2ms/step - loss: 2.0055 - acc: 0.6000 - val_loss: 2.2120 - val_acc: 0.2500\n",
            "Epoch 10/10\n",
            "20/20 [==============================] - 0s 2ms/step - loss: 1.9065 - acc: 0.6000 - val_loss: 2.1778 - val_acc: 0.3500\n"
          ],
          "name": "stdout"
        },
        {
          "output_type": "execute_result",
          "data": {
            "text/plain": [
              "<keras.callbacks.History at 0x7f1048553d30>"
            ]
          },
          "metadata": {
            "tags": []
          },
          "execution_count": 23
        }
      ]
    },
    {
      "cell_type": "code",
      "metadata": {
        "id": "yLwpcZuT9Ei-",
        "colab_type": "code",
        "outputId": "3d16bf39-6dcb-47e1-ee55-50391f19d320",
        "colab": {
          "base_uri": "https://localhost:8080/",
          "height": 176
        }
      },
      "source": [
        "#pretrained_model= convnet , and new_model=svm\n",
        "\n",
        "from sklearn.svm import SVC\n",
        "level2_svm_classifier = SVC(kernel = 'rbf', random_state = 0)\n",
        "print(x_train_features.shape)\n",
        "\n",
        "level2_svm_classifier.fit(x_train_features, y_train_for_svm)"
      ],
      "execution_count": 0,
      "outputs": [
        {
          "output_type": "stream",
          "text": [
            "(20, 144)\n"
          ],
          "name": "stdout"
        },
        {
          "output_type": "stream",
          "text": [
            "/usr/local/lib/python3.6/dist-packages/sklearn/svm/base.py:193: FutureWarning: The default value of gamma will change from 'auto' to 'scale' in version 0.22 to account better for unscaled features. Set gamma explicitly to 'auto' or 'scale' to avoid this warning.\n",
            "  \"avoid this warning.\", FutureWarning)\n"
          ],
          "name": "stderr"
        },
        {
          "output_type": "execute_result",
          "data": {
            "text/plain": [
              "SVC(C=1.0, cache_size=200, class_weight=None, coef0=0.0,\n",
              "    decision_function_shape='ovr', degree=3, gamma='auto_deprecated',\n",
              "    kernel='rbf', max_iter=-1, probability=False, random_state=0,\n",
              "    shrinking=True, tol=0.001, verbose=False)"
            ]
          },
          "metadata": {
            "tags": []
          },
          "execution_count": 24
        }
      ]
    },
    {
      "cell_type": "code",
      "metadata": {
        "id": "DnhOhcUGJ5z0",
        "colab_type": "code",
        "colab": {}
      },
      "source": [
        "y_pred_by_svm=level2_svm_classifier.predict(x_test_features)\n",
        "from sklearn.metrics import confusion_matrix\n",
        "cn=confusion_matrix(y_test_for_svm,y_pred_by_svm)"
      ],
      "execution_count": 0,
      "outputs": []
    },
    {
      "cell_type": "code",
      "metadata": {
        "id": "hFTLYLNLJyK2",
        "colab_type": "code",
        "outputId": "59287812-7720-496b-bc2f-5300f40ddbc5",
        "colab": {
          "base_uri": "https://localhost:8080/",
          "height": 187
        }
      },
      "source": [
        "print(cn)"
      ],
      "execution_count": 0,
      "outputs": [
        {
          "output_type": "stream",
          "text": [
            "[[1 0 0 0 0 0 1 0 0 0]\n",
            " [0 2 0 0 0 0 0 0 0 0]\n",
            " [0 0 2 0 0 0 0 0 0 0]\n",
            " [1 0 0 1 0 0 0 0 0 0]\n",
            " [0 1 0 0 1 0 0 0 0 0]\n",
            " [0 0 0 0 0 1 1 0 0 0]\n",
            " [0 1 0 0 0 0 1 0 0 0]\n",
            " [0 0 0 0 0 0 0 2 0 0]\n",
            " [0 0 0 0 0 0 0 0 2 0]\n",
            " [0 0 0 0 0 1 0 0 1 0]]\n"
          ],
          "name": "stdout"
        }
      ]
    },
    {
      "cell_type": "code",
      "metadata": {
        "id": "xymuhFtOJVLj",
        "colab_type": "code",
        "outputId": "69cec3a2-62e0-481c-c82a-5c639c2d7d9c",
        "colab": {
          "base_uri": "https://localhost:8080/",
          "height": 34
        }
      },
      "source": [
        "from sklearn.metrics import accuracy_score\n",
        "\n",
        "# get the accuracy\n",
        "print(accuracy_score(y_test_for_svm, y_pred_by_svm))"
      ],
      "execution_count": 0,
      "outputs": [
        {
          "output_type": "stream",
          "text": [
            "0.65\n"
          ],
          "name": "stdout"
        }
      ]
    }
  ]
}