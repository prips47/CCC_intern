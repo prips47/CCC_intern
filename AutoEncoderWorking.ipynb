{
  "nbformat": 4,
  "nbformat_minor": 0,
  "metadata": {
    "colab": {
      "name": "AutoEncoderWorking.ipynb",
      "version": "0.3.2",
      "provenance": [],
      "collapsed_sections": [],
      "include_colab_link": true
    },
    "kernelspec": {
      "name": "python3",
      "display_name": "Python 3"
    }
  },
  "cells": [
    {
      "cell_type": "markdown",
      "metadata": {
        "id": "view-in-github",
        "colab_type": "text"
      },
      "source": [
        "<a href=\"https://colab.research.google.com/github/prips47/CCC_intern/blob/master/AutoEncoderWorking.ipynb\" target=\"_parent\"><img src=\"https://colab.research.google.com/assets/colab-badge.svg\" alt=\"Open In Colab\"/></a>"
      ]
    },
    {
      "cell_type": "code",
      "metadata": {
        "id": "i74XJH5XeJjs",
        "colab_type": "code",
        "colab": {
          "base_uri": "https://localhost:8080/",
          "height": 34
        },
        "outputId": "6600287b-adbf-47bf-9a72-b58cb1ad5d83"
      },
      "source": [
        "\n",
        "\n",
        "from IPython.display import Image, SVG\n",
        "import matplotlib.pyplot as plt\n",
        "\n",
        "%matplotlib inline\n",
        "\n",
        "import numpy as np\n",
        "import keras\n",
        "from keras.datasets import mnist\n",
        "from keras.models import Model, Sequential\n",
        "from keras.layers import Input, Dense, Conv2D, MaxPooling2D, UpSampling2D, Flatten, Reshape\n",
        "from keras import regularizers"
      ],
      "execution_count": 1,
      "outputs": [
        {
          "output_type": "stream",
          "text": [
            "Using TensorFlow backend.\n"
          ],
          "name": "stderr"
        }
      ]
    },
    {
      "cell_type": "code",
      "metadata": {
        "id": "3iGDk3gpkkSb",
        "colab_type": "code",
        "colab": {}
      },
      "source": [
        ""
      ],
      "execution_count": 0,
      "outputs": []
    },
    {
      "cell_type": "code",
      "metadata": {
        "id": "2CpPTwlFeoqN",
        "colab_type": "code",
        "colab": {
          "base_uri": "https://localhost:8080/",
          "height": 884
        },
        "outputId": "2469598b-e711-4211-99e3-9362e5b4d0a4"
      },
      "source": [
        "# Loads the training and test data sets (ignoring class labels)\n",
        "(x_train, _), (x_test, _) = mnist.load_data()\n",
        "\n",
        "# print(x_train)\n",
        "# Scales the training and test data to range between 0 and 1.\n",
        "max_value = float(x_train.max())\n",
        "x_train = x_train.astype('float32') / max_value\n",
        "x_test = x_test.astype('float32') / max_value\n",
        "print(x_train)"
      ],
      "execution_count": 2,
      "outputs": [
        {
          "output_type": "stream",
          "text": [
            "Downloading data from https://s3.amazonaws.com/img-datasets/mnist.npz\n",
            "11493376/11490434 [==============================] - 0s 0us/step\n",
            "[[[0. 0. 0. ... 0. 0. 0.]\n",
            "  [0. 0. 0. ... 0. 0. 0.]\n",
            "  [0. 0. 0. ... 0. 0. 0.]\n",
            "  ...\n",
            "  [0. 0. 0. ... 0. 0. 0.]\n",
            "  [0. 0. 0. ... 0. 0. 0.]\n",
            "  [0. 0. 0. ... 0. 0. 0.]]\n",
            "\n",
            " [[0. 0. 0. ... 0. 0. 0.]\n",
            "  [0. 0. 0. ... 0. 0. 0.]\n",
            "  [0. 0. 0. ... 0. 0. 0.]\n",
            "  ...\n",
            "  [0. 0. 0. ... 0. 0. 0.]\n",
            "  [0. 0. 0. ... 0. 0. 0.]\n",
            "  [0. 0. 0. ... 0. 0. 0.]]\n",
            "\n",
            " [[0. 0. 0. ... 0. 0. 0.]\n",
            "  [0. 0. 0. ... 0. 0. 0.]\n",
            "  [0. 0. 0. ... 0. 0. 0.]\n",
            "  ...\n",
            "  [0. 0. 0. ... 0. 0. 0.]\n",
            "  [0. 0. 0. ... 0. 0. 0.]\n",
            "  [0. 0. 0. ... 0. 0. 0.]]\n",
            "\n",
            " ...\n",
            "\n",
            " [[0. 0. 0. ... 0. 0. 0.]\n",
            "  [0. 0. 0. ... 0. 0. 0.]\n",
            "  [0. 0. 0. ... 0. 0. 0.]\n",
            "  ...\n",
            "  [0. 0. 0. ... 0. 0. 0.]\n",
            "  [0. 0. 0. ... 0. 0. 0.]\n",
            "  [0. 0. 0. ... 0. 0. 0.]]\n",
            "\n",
            " [[0. 0. 0. ... 0. 0. 0.]\n",
            "  [0. 0. 0. ... 0. 0. 0.]\n",
            "  [0. 0. 0. ... 0. 0. 0.]\n",
            "  ...\n",
            "  [0. 0. 0. ... 0. 0. 0.]\n",
            "  [0. 0. 0. ... 0. 0. 0.]\n",
            "  [0. 0. 0. ... 0. 0. 0.]]\n",
            "\n",
            " [[0. 0. 0. ... 0. 0. 0.]\n",
            "  [0. 0. 0. ... 0. 0. 0.]\n",
            "  [0. 0. 0. ... 0. 0. 0.]\n",
            "  ...\n",
            "  [0. 0. 0. ... 0. 0. 0.]\n",
            "  [0. 0. 0. ... 0. 0. 0.]\n",
            "  [0. 0. 0. ... 0. 0. 0.]]]\n"
          ],
          "name": "stdout"
        }
      ]
    },
    {
      "cell_type": "code",
      "metadata": {
        "id": "7-fNfORWeyLD",
        "colab_type": "code",
        "colab": {
          "base_uri": "https://localhost:8080/",
          "height": 34
        },
        "outputId": "749bb988-44ed-4725-c223-1b765261ad83"
      },
      "source": [
        "x_train = x_train.reshape((len(x_train), np.prod(x_train.shape[1:])))\n",
        "x_test = x_test.reshape((len(x_test), np.prod(x_test.shape[1:])))\n",
        "\n",
        "(x_train.shape, x_test.shape)"
      ],
      "execution_count": 3,
      "outputs": [
        {
          "output_type": "execute_result",
          "data": {
            "text/plain": [
              "((60000, 784), (10000, 784))"
            ]
          },
          "metadata": {
            "tags": []
          },
          "execution_count": 3
        }
      ]
    },
    {
      "cell_type": "code",
      "metadata": {
        "id": "uC9TwyUDe3B_",
        "colab_type": "code",
        "colab": {}
      },
      "source": [
        "# input dimension = 784\n",
        "input_dim = x_train.shape[1]\n",
        "encoding_dim = 32\n",
        "\n",
        "compression_factor = float(input_dim) / encoding_dim\n",
        "print(\"Compression factor: %s\" % compression_factor)\n",
        "\n",
        "autoencoder = Sequential()\n",
        "\n",
        "autoencoder.add(\n",
        "    Dense(encoding_dim, input_shape=(input_dim,), activation='relu')\n",
        ")\n",
        "autoencoder.add(\n",
        "    Dense(input_dim, activation='sigmoid')\n",
        ")\n",
        "\n",
        "autoencoder.summary()\n",
        "\n"
      ],
      "execution_count": 0,
      "outputs": []
    },
    {
      "cell_type": "code",
      "metadata": {
        "id": "qNGN7KUYfDQa",
        "colab_type": "code",
        "colab": {
          "base_uri": "https://localhost:8080/",
          "height": 1822
        },
        "outputId": "e3d19202-59bb-4d10-e9bf-1f41354d3150"
      },
      "source": [
        "autoencoder.compile(optimizer='adam', loss='binary_crossentropy')\n",
        "autoencoder.fit(x_train, x_train,\n",
        "                epochs=50,\n",
        "                batch_size=256,\n",
        "                shuffle=True,\n",
        "                validation_data=(x_test, x_test))\n",
        "\n",
        "\n"
      ],
      "execution_count": 5,
      "outputs": [
        {
          "output_type": "stream",
          "text": [
            "WARNING:tensorflow:From /usr/local/lib/python3.6/dist-packages/tensorflow/python/ops/math_ops.py:3066: to_int32 (from tensorflow.python.ops.math_ops) is deprecated and will be removed in a future version.\n",
            "Instructions for updating:\n",
            "Use tf.cast instead.\n",
            "Train on 60000 samples, validate on 10000 samples\n",
            "Epoch 1/50\n",
            "60000/60000 [==============================] - 5s 79us/step - loss: 0.2769 - val_loss: 0.1902\n",
            "Epoch 2/50\n",
            "60000/60000 [==============================] - 4s 67us/step - loss: 0.1718 - val_loss: 0.1550\n",
            "Epoch 3/50\n",
            "60000/60000 [==============================] - 4s 66us/step - loss: 0.1438 - val_loss: 0.1323\n",
            "Epoch 4/50\n",
            "60000/60000 [==============================] - 4s 66us/step - loss: 0.1270 - val_loss: 0.1194\n",
            "Epoch 5/50\n",
            "60000/60000 [==============================] - 4s 66us/step - loss: 0.1163 - val_loss: 0.1108\n",
            "Epoch 6/50\n",
            "60000/60000 [==============================] - 4s 66us/step - loss: 0.1093 - val_loss: 0.1055\n",
            "Epoch 7/50\n",
            "60000/60000 [==============================] - 4s 65us/step - loss: 0.1047 - val_loss: 0.1017\n",
            "Epoch 8/50\n",
            "60000/60000 [==============================] - 4s 65us/step - loss: 0.1015 - val_loss: 0.0989\n",
            "Epoch 9/50\n",
            "60000/60000 [==============================] - 4s 65us/step - loss: 0.0990 - val_loss: 0.0967\n",
            "Epoch 10/50\n",
            "60000/60000 [==============================] - 4s 66us/step - loss: 0.0973 - val_loss: 0.0953\n",
            "Epoch 11/50\n",
            "60000/60000 [==============================] - 4s 65us/step - loss: 0.0960 - val_loss: 0.0943\n",
            "Epoch 12/50\n",
            "60000/60000 [==============================] - 4s 65us/step - loss: 0.0953 - val_loss: 0.0937\n",
            "Epoch 13/50\n",
            "60000/60000 [==============================] - 4s 65us/step - loss: 0.0948 - val_loss: 0.0933\n",
            "Epoch 14/50\n",
            "60000/60000 [==============================] - 4s 65us/step - loss: 0.0944 - val_loss: 0.0931\n",
            "Epoch 15/50\n",
            "60000/60000 [==============================] - 4s 65us/step - loss: 0.0942 - val_loss: 0.0928\n",
            "Epoch 16/50\n",
            "60000/60000 [==============================] - 4s 65us/step - loss: 0.0939 - val_loss: 0.0927\n",
            "Epoch 17/50\n",
            "60000/60000 [==============================] - 4s 65us/step - loss: 0.0938 - val_loss: 0.0926\n",
            "Epoch 18/50\n",
            "60000/60000 [==============================] - 4s 66us/step - loss: 0.0937 - val_loss: 0.0924\n",
            "Epoch 19/50\n",
            "60000/60000 [==============================] - 4s 65us/step - loss: 0.0936 - val_loss: 0.0924\n",
            "Epoch 20/50\n",
            "60000/60000 [==============================] - 4s 65us/step - loss: 0.0935 - val_loss: 0.0923\n",
            "Epoch 21/50\n",
            "60000/60000 [==============================] - 4s 65us/step - loss: 0.0934 - val_loss: 0.0922\n",
            "Epoch 22/50\n",
            "60000/60000 [==============================] - 4s 65us/step - loss: 0.0933 - val_loss: 0.0922\n",
            "Epoch 23/50\n",
            "60000/60000 [==============================] - 4s 68us/step - loss: 0.0933 - val_loss: 0.0921\n",
            "Epoch 24/50\n",
            "60000/60000 [==============================] - 4s 66us/step - loss: 0.0932 - val_loss: 0.0920\n",
            "Epoch 25/50\n",
            "60000/60000 [==============================] - 4s 65us/step - loss: 0.0932 - val_loss: 0.0920\n",
            "Epoch 26/50\n",
            "60000/60000 [==============================] - 4s 64us/step - loss: 0.0932 - val_loss: 0.0920\n",
            "Epoch 27/50\n",
            "60000/60000 [==============================] - 4s 64us/step - loss: 0.0931 - val_loss: 0.0919\n",
            "Epoch 28/50\n",
            "60000/60000 [==============================] - 4s 64us/step - loss: 0.0931 - val_loss: 0.0919\n",
            "Epoch 29/50\n",
            "60000/60000 [==============================] - 4s 65us/step - loss: 0.0931 - val_loss: 0.0919\n",
            "Epoch 30/50\n",
            "60000/60000 [==============================] - 4s 66us/step - loss: 0.0930 - val_loss: 0.0919\n",
            "Epoch 31/50\n",
            "60000/60000 [==============================] - 4s 64us/step - loss: 0.0930 - val_loss: 0.0918\n",
            "Epoch 32/50\n",
            "60000/60000 [==============================] - 4s 65us/step - loss: 0.0930 - val_loss: 0.0918\n",
            "Epoch 33/50\n",
            "60000/60000 [==============================] - 4s 65us/step - loss: 0.0929 - val_loss: 0.0918\n",
            "Epoch 34/50\n",
            "60000/60000 [==============================] - 4s 65us/step - loss: 0.0929 - val_loss: 0.0918\n",
            "Epoch 35/50\n",
            "60000/60000 [==============================] - 4s 65us/step - loss: 0.0929 - val_loss: 0.0917\n",
            "Epoch 36/50\n",
            "60000/60000 [==============================] - 4s 65us/step - loss: 0.0929 - val_loss: 0.0917\n",
            "Epoch 37/50\n",
            "60000/60000 [==============================] - 4s 65us/step - loss: 0.0928 - val_loss: 0.0917\n",
            "Epoch 38/50\n",
            "60000/60000 [==============================] - 4s 65us/step - loss: 0.0928 - val_loss: 0.0917\n",
            "Epoch 39/50\n",
            "60000/60000 [==============================] - 4s 64us/step - loss: 0.0928 - val_loss: 0.0916\n",
            "Epoch 40/50\n",
            "60000/60000 [==============================] - 4s 64us/step - loss: 0.0928 - val_loss: 0.0916\n",
            "Epoch 41/50\n",
            "60000/60000 [==============================] - 4s 65us/step - loss: 0.0928 - val_loss: 0.0917\n",
            "Epoch 42/50\n",
            "60000/60000 [==============================] - 4s 65us/step - loss: 0.0928 - val_loss: 0.0916\n",
            "Epoch 43/50\n",
            "60000/60000 [==============================] - 4s 64us/step - loss: 0.0927 - val_loss: 0.0916\n",
            "Epoch 44/50\n",
            "60000/60000 [==============================] - 4s 64us/step - loss: 0.0927 - val_loss: 0.0916\n",
            "Epoch 45/50\n",
            "60000/60000 [==============================] - 4s 66us/step - loss: 0.0927 - val_loss: 0.0915\n",
            "Epoch 46/50\n",
            "60000/60000 [==============================] - 4s 64us/step - loss: 0.0927 - val_loss: 0.0917\n",
            "Epoch 47/50\n",
            "60000/60000 [==============================] - 4s 64us/step - loss: 0.0927 - val_loss: 0.0915\n",
            "Epoch 48/50\n",
            "60000/60000 [==============================] - 4s 64us/step - loss: 0.0927 - val_loss: 0.0915\n",
            "Epoch 49/50\n",
            "60000/60000 [==============================] - 4s 64us/step - loss: 0.0927 - val_loss: 0.0915\n",
            "Epoch 50/50\n",
            "60000/60000 [==============================] - 4s 64us/step - loss: 0.0926 - val_loss: 0.0915\n"
          ],
          "name": "stdout"
        },
        {
          "output_type": "execute_result",
          "data": {
            "text/plain": [
              "<keras.callbacks.History at 0x7fea2d0b4780>"
            ]
          },
          "metadata": {
            "tags": []
          },
          "execution_count": 5
        }
      ]
    },
    {
      "cell_type": "code",
      "metadata": {
        "id": "766iGEgHfOVS",
        "colab_type": "code",
        "colab": {
          "base_uri": "https://localhost:8080/",
          "height": 232
        },
        "outputId": "ad04f119-ba8d-4a28-d49b-137dfd670039"
      },
      "source": [
        "num_images = 10\n",
        "np.random.seed(42)\n",
        "random_test_images = np.random.randint(x_test.shape[0], size=num_images)\n",
        "\n",
        "encoded_imgs = encoder.predict(x_test)\n",
        "decoded_imgs = autoencoder.predict(x_test)\n",
        "\n",
        "plt.figure(figsize=(18, 4))\n",
        "\n",
        "for i, image_idx in enumerate(random_test_images):\n",
        "    # plot original image\n",
        "    ax = plt.subplot(3, num_images, i + 1)\n",
        "    plt.imshow(x_test[image_idx].reshape(28, 28))\n",
        "    plt.gray()\n",
        "    ax.get_xaxis().set_visible(False)\n",
        "    ax.get_yaxis().set_visible(False)\n",
        "    \n",
        "    # plot encoded image\n",
        "    ax = plt.subplot(3, num_images, num_images + i + 1)\n",
        "    plt.imshow(encoded_imgs[image_idx].reshape(8, 4))\n",
        "    plt.gray()\n",
        "    ax.get_xaxis().set_visible(False)\n",
        "    ax.get_yaxis().set_visible(False)\n",
        "\n",
        "    # plot reconstructed image\n",
        "    ax = plt.subplot(3, num_images, 2*num_images + i + 1)\n",
        "    plt.imshow(decoded_imgs[image_idx].reshape(28, 28))\n",
        "    plt.gray()\n",
        "    ax.get_xaxis().set_visible(False)\n",
        "    ax.get_yaxis().set_visible(False)\n",
        "plt.show()"
      ],
      "execution_count": 7,
      "outputs": [
        {
          "output_type": "error",
          "ename": "NameError",
          "evalue": "ignored",
          "traceback": [
            "\u001b[0;31m---------------------------------------------------------------------------\u001b[0m",
            "\u001b[0;31mNameError\u001b[0m                                 Traceback (most recent call last)",
            "\u001b[0;32m<ipython-input-7-a84b1d81de5d>\u001b[0m in \u001b[0;36m<module>\u001b[0;34m()\u001b[0m\n\u001b[1;32m      3\u001b[0m \u001b[0mrandom_test_images\u001b[0m \u001b[0;34m=\u001b[0m \u001b[0mnp\u001b[0m\u001b[0;34m.\u001b[0m\u001b[0mrandom\u001b[0m\u001b[0;34m.\u001b[0m\u001b[0mrandint\u001b[0m\u001b[0;34m(\u001b[0m\u001b[0mx_test\u001b[0m\u001b[0;34m.\u001b[0m\u001b[0mshape\u001b[0m\u001b[0;34m[\u001b[0m\u001b[0;36m0\u001b[0m\u001b[0;34m]\u001b[0m\u001b[0;34m,\u001b[0m \u001b[0msize\u001b[0m\u001b[0;34m=\u001b[0m\u001b[0mnum_images\u001b[0m\u001b[0;34m)\u001b[0m\u001b[0;34m\u001b[0m\u001b[0;34m\u001b[0m\u001b[0m\n\u001b[1;32m      4\u001b[0m \u001b[0;34m\u001b[0m\u001b[0m\n\u001b[0;32m----> 5\u001b[0;31m \u001b[0mencoded_imgs\u001b[0m \u001b[0;34m=\u001b[0m \u001b[0mencoder\u001b[0m\u001b[0;34m.\u001b[0m\u001b[0mpredict\u001b[0m\u001b[0;34m(\u001b[0m\u001b[0mx_test\u001b[0m\u001b[0;34m)\u001b[0m\u001b[0;34m\u001b[0m\u001b[0;34m\u001b[0m\u001b[0m\n\u001b[0m\u001b[1;32m      6\u001b[0m \u001b[0mdecoded_imgs\u001b[0m \u001b[0;34m=\u001b[0m \u001b[0mautoencoder\u001b[0m\u001b[0;34m.\u001b[0m\u001b[0mpredict\u001b[0m\u001b[0;34m(\u001b[0m\u001b[0mx_test\u001b[0m\u001b[0;34m)\u001b[0m\u001b[0;34m\u001b[0m\u001b[0;34m\u001b[0m\u001b[0m\n\u001b[1;32m      7\u001b[0m \u001b[0;34m\u001b[0m\u001b[0m\n",
            "\u001b[0;31mNameError\u001b[0m: name 'encoder' is not defined"
          ]
        }
      ]
    }
  ]
}